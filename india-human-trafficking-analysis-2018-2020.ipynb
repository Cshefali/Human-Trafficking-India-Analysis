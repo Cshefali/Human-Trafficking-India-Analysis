{
 "cells": [
  {
   "cell_type": "markdown",
   "id": "10b5a7ea",
   "metadata": {
    "_execution_state": "idle",
    "_uuid": "051d70d956493feee0c6d64651c6a088724dca2a",
    "papermill": {
     "duration": 0.077288,
     "end_time": "2022-04-11T16:19:03.113916",
     "exception": false,
     "start_time": "2022-04-11T16:19:03.036628",
     "status": "completed"
    },
    "tags": []
   },
   "source": [
    "#### Why this analysis?\n",
    "\n",
    "`Some recently watched short documentaries/interviews on human trafficking rackets in India blew my mind off 🤯. So, I felt like checking out what the national records have to say about this issue.  \n",
    "I have compiled this dataset from the National Crime Records Bureau, India and also performed an analysis on the same.  \n",
    "Here is my report.`"
   ]
  },
  {
   "cell_type": "markdown",
   "id": "c5a2ac30",
   "metadata": {
    "papermill": {
     "duration": 0.073707,
     "end_time": "2022-04-11T16:19:03.261400",
     "exception": false,
     "start_time": "2022-04-11T16:19:03.187693",
     "status": "completed"
    },
    "tags": []
   },
   "source": [
    "Before we delve into the actual analysis, there are a few concepts that we should be familiar with. There are columns with terms like **`chargesheet`**, **`final report`**, **`chargesheeting rate`** etc.  \n",
    "I read about these terms and how are they different, how do they work etc. from some blogs. I'm mentioning a gist of these terms below. You may read more about it [here](https://www.lawteacher.net/free-law-essays/administrative-law/concept-of-a-police-report-administrative-law-essay).  \n",
    "1. There are three different kinds of reports to be made by police officers at three different stages of investigation.\n",
    "    1. **Preliminary report**, from the Officer In-Charge of a police station to the Magistrate.\n",
    "    2. **Forwarding report**, from a subordinate police officer to the officer in charge of the station.\n",
    "    3. **Final report**, of the police officer as soon as investigation is completed to the Magistrate.\n",
    "2. The police **Charge Sheet** is the complaint of a private individual on which criminal proceedings are initiated. When the charge sheet is sent, the preliminary stage of investigation and preparation is over.\n",
    "3. The charge sheet is followed by the Final Report. **Final report** records the conclusion arrived at by the Police after the investigation process.  \n",
    "\n",
    "***So, if Final Report column contains 0, it implies that the investigation is not yet complete.***\n",
    "    \n",
    " \n"
   ]
  },
  {
   "cell_type": "markdown",
   "id": "f13c7162",
   "metadata": {
    "papermill": {
     "duration": 0.073072,
     "end_time": "2022-04-11T16:19:03.407257",
     "exception": false,
     "start_time": "2022-04-11T16:19:03.334185",
     "status": "completed"
    },
    "tags": []
   },
   "source": [
    "\n"
   ]
  },
  {
   "cell_type": "markdown",
   "id": "37242262",
   "metadata": {
    "papermill": {
     "duration": 0.073681,
     "end_time": "2022-04-11T16:19:03.554788",
     "exception": false,
     "start_time": "2022-04-11T16:19:03.481107",
     "status": "completed"
    },
    "tags": []
   },
   "source": [
    "#### About the dataset:\n",
    "All the details about the data can be found [here](https://www.kaggle.com/datasets/cshefali/human-trafficking-in-india-2018-2020) on the dataset page."
   ]
  },
  {
   "cell_type": "code",
   "execution_count": 1,
   "id": "8fed5ff6",
   "metadata": {
    "execution": {
     "iopub.execute_input": "2022-04-11T16:19:03.708895Z",
     "iopub.status.busy": "2022-04-11T16:19:03.708198Z",
     "iopub.status.idle": "2022-04-11T16:19:05.011900Z",
     "shell.execute_reply": "2022-04-11T16:19:05.010532Z"
    },
    "papermill": {
     "duration": 1.384218,
     "end_time": "2022-04-11T16:19:05.012096",
     "exception": false,
     "start_time": "2022-04-11T16:19:03.627878",
     "status": "completed"
    },
    "tags": []
   },
   "outputs": [
    {
     "name": "stderr",
     "output_type": "stream",
     "text": [
      "── \u001b[1mAttaching packages\u001b[22m ─────────────────────────────────────── tidyverse 1.3.1 ──\n",
      "\n",
      "\u001b[32m✔\u001b[39m \u001b[34mggplot2\u001b[39m 3.3.5     \u001b[32m✔\u001b[39m \u001b[34mpurrr  \u001b[39m 0.3.4\n",
      "\u001b[32m✔\u001b[39m \u001b[34mtibble \u001b[39m 3.1.5     \u001b[32m✔\u001b[39m \u001b[34mdplyr  \u001b[39m 1.0.7\n",
      "\u001b[32m✔\u001b[39m \u001b[34mtidyr  \u001b[39m 1.1.4     \u001b[32m✔\u001b[39m \u001b[34mstringr\u001b[39m 1.4.0\n",
      "\u001b[32m✔\u001b[39m \u001b[34mreadr  \u001b[39m 2.0.2     \u001b[32m✔\u001b[39m \u001b[34mforcats\u001b[39m 0.5.1\n",
      "\n",
      "── \u001b[1mConflicts\u001b[22m ────────────────────────────────────────── tidyverse_conflicts() ──\n",
      "\u001b[31m✖\u001b[39m \u001b[34mdplyr\u001b[39m::\u001b[32mfilter()\u001b[39m masks \u001b[34mstats\u001b[39m::filter()\n",
      "\u001b[31m✖\u001b[39m \u001b[34mdplyr\u001b[39m::\u001b[32mlag()\u001b[39m    masks \u001b[34mstats\u001b[39m::lag()\n",
      "\n",
      "\n",
      "Attaching package: ‘janitor’\n",
      "\n",
      "\n",
      "The following objects are masked from ‘package:stats’:\n",
      "\n",
      "    chisq.test, fisher.test\n",
      "\n",
      "\n"
     ]
    }
   ],
   "source": [
    "#Load all the relevant packages.\n",
    "library(tidyverse) # metapackage of all tidyverse packages\n",
    "library(janitor) #for data cleaning.\n",
    "library(ggplot2) #for data viz\n",
    "library(readxl) #this package is not part of core tidyverse, so explicitly loaded. The files are in .xlsx format."
   ]
  },
  {
   "cell_type": "code",
   "execution_count": 2,
   "id": "bf9972af",
   "metadata": {
    "execution": {
     "iopub.execute_input": "2022-04-11T16:19:05.207981Z",
     "iopub.status.busy": "2022-04-11T16:19:05.176567Z",
     "iopub.status.idle": "2022-04-11T16:19:05.791064Z",
     "shell.execute_reply": "2022-04-11T16:19:05.789936Z"
    },
    "papermill": {
     "duration": 0.697257,
     "end_time": "2022-04-11T16:19:05.791223",
     "exception": false,
     "start_time": "2022-04-11T16:19:05.093966",
     "status": "completed"
    },
    "tags": []
   },
   "outputs": [],
   "source": [
    "#Reading all the data files.\n",
    "#2018\n",
    "states_data_18 <- read_excel(\"../input/human-trafficking-in-india-2018-2020/2018_states_data.xlsx\")\n",
    "victims_18 <- read_excel(\"../input/human-trafficking-in-india-2018-2020/2018_victims_trafficked.xlsx\")\n",
    "rescued_victims_18 <- read_excel(\"../input/human-trafficking-in-india-2018-2020/2018_victims_rescued.xlsx\")\n",
    "victims_nationality_18 <- read_excel(\"../input/human-trafficking-in-india-2018-2020/2018_rescued_victims_nationality.xlsx\")\n",
    "culprit_disposal_18 <- read_excel(\"../input/human-trafficking-in-india-2018-2020/2018_culprits_disposal.xlsx\")\n",
    "cases_disposal_18 <- read_excel(\"../input/human-trafficking-in-india-2018-2020/2018_police_and_court_disposal_of_cases.xlsx\")\n",
    "purpose_18 <- read_excel(\"../input/human-trafficking-in-india-2018-2020/2018_human_trafficking_purpose.xlsx\")\n",
    "\n",
    "#2019\n",
    "states_data_19 <- read_excel(\"../input/human-trafficking-in-india-2018-2020/2019_states_data.xlsx\")\n",
    "victims_19 <- read_excel(\"../input/human-trafficking-in-india-2018-2020/2019_victims_trafficked.xlsx\")\n",
    "rescued_victims_19 <- read_excel(\"../input/human-trafficking-in-india-2018-2020/2019_victims_rescued.xlsx\")\n",
    "victims_nationality_19 <- read_excel(\"../input/human-trafficking-in-india-2018-2020/2019_victims_rescued_nationality.xlsx\")\n",
    "culprit_disposal_19 <- read_excel(\"../input/human-trafficking-in-india-2018-2020/2019_culprits_disposal.xlsx\")\n",
    "cases_disposal_19 <- read_excel(\"../input/human-trafficking-in-india-2018-2020/2019_police_and_court_disposal.xlsx\")\n",
    "purpose_19 <- read_excel(\"../input/human-trafficking-in-india-2018-2020/2019_trafficking_purpose.xlsx\")\n",
    "\n",
    "#2020\n",
    "states_data_20 <- read_excel(\"../input/human-trafficking-in-india-2018-2020/2020_states_data.xlsx\")\n",
    "victims_20 <- read_excel(\"../input/human-trafficking-in-india-2018-2020/2020_victims_trafficked.xlsx\")\n",
    "rescued_victims_20 <- read_excel(\"../input/human-trafficking-in-india-2018-2020/2020_victims_rescued.xlsx\")\n",
    "victims_nationality_20 <- read_excel(\"../input/human-trafficking-in-india-2018-2020/2020_rescued_victims_nationality.xlsx\")\n",
    "culprit_disposal_20 <- read_excel(\"../input/human-trafficking-in-india-2018-2020/2020_culprits_disposal.xlsx\")\n",
    "cases_disposal_20 <- read_excel(\"../input/human-trafficking-in-india-2018-2020/2020_case_disposal.xlsx\")\n",
    "purpose_20 <- read_excel(\"../input/human-trafficking-in-india-2018-2020/2020_trafficking_purpose.xlsx\")\n",
    "aht_units_20 <- read_excel(\"../input/human-trafficking-in-india-2018-2020/2020_number_of_AHT_Units.xlsx\")"
   ]
  },
  {
   "cell_type": "code",
   "execution_count": 3,
   "id": "ba606576",
   "metadata": {
    "execution": {
     "iopub.execute_input": "2022-04-11T16:19:05.954248Z",
     "iopub.status.busy": "2022-04-11T16:19:05.952532Z",
     "iopub.status.idle": "2022-04-11T16:19:05.983597Z",
     "shell.execute_reply": "2022-04-11T16:19:05.982951Z"
    },
    "papermill": {
     "duration": 0.113267,
     "end_time": "2022-04-11T16:19:05.983734",
     "exception": false,
     "start_time": "2022-04-11T16:19:05.870467",
     "status": "completed"
    },
    "tags": []
   },
   "outputs": [
    {
     "data": {
      "text/html": [
       "<table class=\"dataframe\">\n",
       "<caption>A tibble: 6 × 7</caption>\n",
       "<thead>\n",
       "\t<tr><th scope=col>S. No.</th><th scope=col>State/UT</th><th scope=col>Cases Reported</th><th scope=col>Percentage Share of State (2018)</th><th scope=col>Mid-Year Projected Population (In Lakhs)+</th><th scope=col>Rate of Cognizable Crimes (IPC)++</th><th scope=col>region type</th></tr>\n",
       "\t<tr><th scope=col>&lt;dbl&gt;</th><th scope=col>&lt;chr&gt;</th><th scope=col>&lt;dbl&gt;</th><th scope=col>&lt;dbl&gt;</th><th scope=col>&lt;dbl&gt;</th><th scope=col>&lt;dbl&gt;</th><th scope=col>&lt;chr&gt;</th></tr>\n",
       "</thead>\n",
       "<tbody>\n",
       "\t<tr><td>1</td><td>Andhra Pradesh   </td><td>240</td><td> 9.7</td><td> 520.3</td><td>0.5</td><td>state</td></tr>\n",
       "\t<tr><td>2</td><td>Arunachal Pradesh</td><td>  3</td><td> 0.1</td><td>  14.9</td><td>0.2</td><td>state</td></tr>\n",
       "\t<tr><td>3</td><td>Assam            </td><td>262</td><td>10.6</td><td> 340.4</td><td>0.8</td><td>state</td></tr>\n",
       "\t<tr><td>4</td><td>Bihar            </td><td>127</td><td> 5.2</td><td>1183.3</td><td>0.1</td><td>state</td></tr>\n",
       "\t<tr><td>5</td><td>Chhattisgarh     </td><td> 51</td><td> 2.1</td><td> 284.7</td><td>0.2</td><td>state</td></tr>\n",
       "\t<tr><td>6</td><td>Goa              </td><td> 55</td><td> 2.2</td><td>  15.3</td><td>3.6</td><td>state</td></tr>\n",
       "</tbody>\n",
       "</table>\n"
      ],
      "text/latex": [
       "A tibble: 6 × 7\n",
       "\\begin{tabular}{lllllll}\n",
       " S. No. & State/UT & Cases Reported & Percentage Share of State (2018) & Mid-Year Projected Population (In Lakhs)+ & Rate of Cognizable Crimes (IPC)++ & region type\\\\\n",
       " <dbl> & <chr> & <dbl> & <dbl> & <dbl> & <dbl> & <chr>\\\\\n",
       "\\hline\n",
       "\t 1 & Andhra Pradesh    & 240 &  9.7 &  520.3 & 0.5 & state\\\\\n",
       "\t 2 & Arunachal Pradesh &   3 &  0.1 &   14.9 & 0.2 & state\\\\\n",
       "\t 3 & Assam             & 262 & 10.6 &  340.4 & 0.8 & state\\\\\n",
       "\t 4 & Bihar             & 127 &  5.2 & 1183.3 & 0.1 & state\\\\\n",
       "\t 5 & Chhattisgarh      &  51 &  2.1 &  284.7 & 0.2 & state\\\\\n",
       "\t 6 & Goa               &  55 &  2.2 &   15.3 & 3.6 & state\\\\\n",
       "\\end{tabular}\n"
      ],
      "text/markdown": [
       "\n",
       "A tibble: 6 × 7\n",
       "\n",
       "| S. No. &lt;dbl&gt; | State/UT &lt;chr&gt; | Cases Reported &lt;dbl&gt; | Percentage Share of State (2018) &lt;dbl&gt; | Mid-Year Projected Population (In Lakhs)+ &lt;dbl&gt; | Rate of Cognizable Crimes (IPC)++ &lt;dbl&gt; | region type &lt;chr&gt; |\n",
       "|---|---|---|---|---|---|---|\n",
       "| 1 | Andhra Pradesh    | 240 |  9.7 |  520.3 | 0.5 | state |\n",
       "| 2 | Arunachal Pradesh |   3 |  0.1 |   14.9 | 0.2 | state |\n",
       "| 3 | Assam             | 262 | 10.6 |  340.4 | 0.8 | state |\n",
       "| 4 | Bihar             | 127 |  5.2 | 1183.3 | 0.1 | state |\n",
       "| 5 | Chhattisgarh      |  51 |  2.1 |  284.7 | 0.2 | state |\n",
       "| 6 | Goa               |  55 |  2.2 |   15.3 | 3.6 | state |\n",
       "\n"
      ],
      "text/plain": [
       "  S. No. State/UT          Cases Reported Percentage Share of State (2018)\n",
       "1 1      Andhra Pradesh    240             9.7                            \n",
       "2 2      Arunachal Pradesh   3             0.1                            \n",
       "3 3      Assam             262            10.6                            \n",
       "4 4      Bihar             127             5.2                            \n",
       "5 5      Chhattisgarh       51             2.1                            \n",
       "6 6      Goa                55             2.2                            \n",
       "  Mid-Year Projected Population (In Lakhs)+ Rate of Cognizable Crimes (IPC)++\n",
       "1  520.3                                    0.5                              \n",
       "2   14.9                                    0.2                              \n",
       "3  340.4                                    0.8                              \n",
       "4 1183.3                                    0.1                              \n",
       "5  284.7                                    0.2                              \n",
       "6   15.3                                    3.6                              \n",
       "  region type\n",
       "1 state      \n",
       "2 state      \n",
       "3 state      \n",
       "4 state      \n",
       "5 state      \n",
       "6 state      "
      ]
     },
     "metadata": {},
     "output_type": "display_data"
    }
   ],
   "source": [
    "head(states_data_18)"
   ]
  },
  {
   "cell_type": "markdown",
   "id": "1b26336d",
   "metadata": {
    "papermill": {
     "duration": 0.093699,
     "end_time": "2022-04-11T16:19:06.174527",
     "exception": false,
     "start_time": "2022-04-11T16:19:06.080828",
     "status": "completed"
    },
    "tags": []
   },
   "source": [
    "### Data Cleaning:\n",
    "#### 1. Cleaning column names\n",
    "#### 2. Missing values\n",
    "#### 3. Duplicate rows\n",
    "#### 4. Inconsistent Data Type of Columns\n",
    "#### 5. Removal of symbols like '+', '\\*' from cell values\n",
    "#### 6. Joining 2 dataframes into 1"
   ]
  },
  {
   "cell_type": "markdown",
   "id": "ab76d928",
   "metadata": {
    "papermill": {
     "duration": 0.093745,
     "end_time": "2022-04-11T16:19:06.362456",
     "exception": false,
     "start_time": "2022-04-11T16:19:06.268711",
     "status": "completed"
    },
    "tags": []
   },
   "source": [
    "#### 1. Cleaning column names\n",
    "The following code cleans all the dataframes simultaneously. Some of the components are explained as follows:\n",
    "1. **c()**- combine function combines all the dataframe names into a vector.\n",
    "2. Inside the loop:\n",
    "    1. **i**- contains name of 1st df in 1st iteration, 2nd df in 2nd iteration & so on...\n",
    "    2. **assign()**- used to assign the 2nd parameter to 1st parameter.\n",
    "        1. Syntax- assign(variable, value)\n",
    "        2. Here, first clean_names() is applied to the df & the result is stored in i.\n",
    "    3. **clean_names()**- this function cleans all the column headers in a file, removing:\n",
    "        1. white spaces\n",
    "        2. brackets and other symbols.\n",
    "        3. converts everything to lowercase.\n",
    "        4. formats the name of column in snake case, e.g. name_of_person.\n",
    "    4. **get(i)**- \n",
    "        1. takes in the name of one dataframe stored in i.\n",
    "        2. returns the value present in this dataframe.\n",
    "        3. clean_names(get(i))- the column headers of this df get cleaned by clean_names()."
   ]
  },
  {
   "cell_type": "code",
   "execution_count": 4,
   "id": "508da588",
   "metadata": {
    "execution": {
     "iopub.execute_input": "2022-04-11T16:19:06.549058Z",
     "iopub.status.busy": "2022-04-11T16:19:06.547467Z",
     "iopub.status.idle": "2022-04-11T16:19:06.857815Z",
     "shell.execute_reply": "2022-04-11T16:19:06.856645Z"
    },
    "papermill": {
     "duration": 0.397994,
     "end_time": "2022-04-11T16:19:06.858007",
     "exception": false,
     "start_time": "2022-04-11T16:19:06.460013",
     "status": "completed"
    },
    "tags": []
   },
   "outputs": [],
   "source": [
    "#cleaning the column headers of all files simultaneously.\n",
    "#All spaces, symbols, brackets, upper case is removed \n",
    "#and column headers are formatted to snake case.\n",
    "dataframe_names <- c(\"states_data_18\",\"victims_18\",\"rescued_victims_18\",\"victims_nationality_18\",\n",
    "                    \"culprit_disposal_18\",\"cases_disposal_18\",\"purpose_18\",\"states_data_19\",\"victims_19\",\"rescued_victims_19\",\"victims_nationality_19\",\n",
    "                    \"culprit_disposal_19\",\"cases_disposal_19\",\"purpose_19\",\"states_data_20\",\"victims_20\",\"rescued_victims_20\",\"victims_nationality_20\",\n",
    "                    \"culprit_disposal_20\",\"cases_disposal_20\",\"purpose_20\",\"aht_units_20\")\n",
    "for (i in dataframe_names)\n",
    "    {assign(i,janitor::clean_names(get(i)))\n",
    "    }"
   ]
  },
  {
   "cell_type": "code",
   "execution_count": 5,
   "id": "6269c8ef",
   "metadata": {
    "execution": {
     "iopub.execute_input": "2022-04-11T16:19:07.054683Z",
     "iopub.status.busy": "2022-04-11T16:19:07.052868Z",
     "iopub.status.idle": "2022-04-11T16:19:07.076483Z",
     "shell.execute_reply": "2022-04-11T16:19:07.074986Z"
    },
    "papermill": {
     "duration": 0.129619,
     "end_time": "2022-04-11T16:19:07.076623",
     "exception": false,
     "start_time": "2022-04-11T16:19:06.947004",
     "status": "completed"
    },
    "tags": []
   },
   "outputs": [
    {
     "data": {
      "text/html": [
       "<table class=\"dataframe\">\n",
       "<caption>A tibble: 6 × 4</caption>\n",
       "<thead>\n",
       "\t<tr><th scope=col>state_ut</th><th scope=col>no_of_police_districts</th><th scope=col>no_of_anti_human_trafficking_units</th><th scope=col>region_type</th></tr>\n",
       "\t<tr><th scope=col>&lt;chr&gt;</th><th scope=col>&lt;dbl&gt;</th><th scope=col>&lt;dbl&gt;</th><th scope=col>&lt;chr&gt;</th></tr>\n",
       "</thead>\n",
       "<tbody>\n",
       "\t<tr><td>Andhra Pradesh   </td><td>13</td><td> 3</td><td>state</td></tr>\n",
       "\t<tr><td>Arunachal Pradesh</td><td>26</td><td> 8</td><td>state</td></tr>\n",
       "\t<tr><td>Assam            </td><td>35</td><td>37</td><td>state</td></tr>\n",
       "\t<tr><td>Bihar            </td><td>44</td><td>44</td><td>state</td></tr>\n",
       "\t<tr><td>Chattisgarh      </td><td>29</td><td> 8</td><td>state</td></tr>\n",
       "\t<tr><td>Goa              </td><td> 2</td><td> 2</td><td>state</td></tr>\n",
       "</tbody>\n",
       "</table>\n"
      ],
      "text/latex": [
       "A tibble: 6 × 4\n",
       "\\begin{tabular}{llll}\n",
       " state\\_ut & no\\_of\\_police\\_districts & no\\_of\\_anti\\_human\\_trafficking\\_units & region\\_type\\\\\n",
       " <chr> & <dbl> & <dbl> & <chr>\\\\\n",
       "\\hline\n",
       "\t Andhra Pradesh    & 13 &  3 & state\\\\\n",
       "\t Arunachal Pradesh & 26 &  8 & state\\\\\n",
       "\t Assam             & 35 & 37 & state\\\\\n",
       "\t Bihar             & 44 & 44 & state\\\\\n",
       "\t Chattisgarh       & 29 &  8 & state\\\\\n",
       "\t Goa               &  2 &  2 & state\\\\\n",
       "\\end{tabular}\n"
      ],
      "text/markdown": [
       "\n",
       "A tibble: 6 × 4\n",
       "\n",
       "| state_ut &lt;chr&gt; | no_of_police_districts &lt;dbl&gt; | no_of_anti_human_trafficking_units &lt;dbl&gt; | region_type &lt;chr&gt; |\n",
       "|---|---|---|---|\n",
       "| Andhra Pradesh    | 13 |  3 | state |\n",
       "| Arunachal Pradesh | 26 |  8 | state |\n",
       "| Assam             | 35 | 37 | state |\n",
       "| Bihar             | 44 | 44 | state |\n",
       "| Chattisgarh       | 29 |  8 | state |\n",
       "| Goa               |  2 |  2 | state |\n",
       "\n"
      ],
      "text/plain": [
       "  state_ut          no_of_police_districts no_of_anti_human_trafficking_units\n",
       "1 Andhra Pradesh    13                      3                                \n",
       "2 Arunachal Pradesh 26                      8                                \n",
       "3 Assam             35                     37                                \n",
       "4 Bihar             44                     44                                \n",
       "5 Chattisgarh       29                      8                                \n",
       "6 Goa                2                      2                                \n",
       "  region_type\n",
       "1 state      \n",
       "2 state      \n",
       "3 state      \n",
       "4 state      \n",
       "5 state      \n",
       "6 state      "
      ]
     },
     "metadata": {},
     "output_type": "display_data"
    }
   ],
   "source": [
    "head(aht_units_20)"
   ]
  },
  {
   "cell_type": "markdown",
   "id": "0431e41d",
   "metadata": {
    "papermill": {
     "duration": 0.084717,
     "end_time": "2022-04-11T16:19:07.246432",
     "exception": false,
     "start_time": "2022-04-11T16:19:07.161715",
     "status": "completed"
    },
    "tags": []
   },
   "source": [
    "#### 2. Missing Values & Duplicate Rows\n",
    "\n",
    "I wanted to see how many missing values & duplicated rows are present in each of the 22 files. So, instead of chekcing them one by one, I did the following:\n",
    "1. Created an empty dataframe with 3 columns- sheet name, total_na_values, total_duplicated_rows.\n",
    "    1. sheet_name- this column contains names of all 22 files.\n",
    "    2. total_na_values- contains total number of missing values in each file.\n",
    "    3. total_duplicated_rows- contains total number of duplicate rows found in each file.\n",
    "2. Ran a loop over **`dataframes_names`** which contains names of all sheets.\n",
    "    1. each iteration works on one file and adds a row to the df_summary dataframe.\n",
    "    2. **rbind()**- appends rows to a dataframe.\n",
    "3. **NOTE:**\n",
    "    1. `colnames(df_summary) <- columns` sets the name of the columns to the ones specified in `columns`. \n",
    "    2. ***Why have I written it at the end of this code snippet and not while creating the empty dataframe?***  \n",
    "        That's because when an empty dataframe is passed to rbind function (in the 1st iteration), rbind overides the empty df and stores the results which changes the column names. So, when I was creating this df, the column names were constantly updating to something else. Hence, i wrote this line of code at the end in order to get the column headers as you are able to see now.\n",
    "    "
   ]
  },
  {
   "cell_type": "code",
   "execution_count": 6,
   "id": "e344af9b",
   "metadata": {
    "execution": {
     "iopub.execute_input": "2022-04-11T16:19:07.422768Z",
     "iopub.status.busy": "2022-04-11T16:19:07.421216Z",
     "iopub.status.idle": "2022-04-11T16:19:07.458161Z",
     "shell.execute_reply": "2022-04-11T16:19:07.456773Z"
    },
    "papermill": {
     "duration": 0.126731,
     "end_time": "2022-04-11T16:19:07.458321",
     "exception": false,
     "start_time": "2022-04-11T16:19:07.331590",
     "status": "completed"
    },
    "tags": []
   },
   "outputs": [],
   "source": [
    "columns <- c(\"sheet_name\",\"total_na_values\",\"total_duplicate_values\")\n",
    "df_summary <- data.frame(matrix(nrow=0,ncol=length(columns)))#creating an empty dataframe.\n",
    "for (i in dataframe_names){\n",
    "    new_row <- c(i,sum(is.na(get(i))),sum(duplicated(get(i))))\n",
    "    df_summary <- df_summary %>% rbind(new_row)\n",
    "}\n",
    "colnames(df_summary) <- columns"
   ]
  },
  {
   "cell_type": "code",
   "execution_count": 7,
   "id": "b93fa130",
   "metadata": {
    "execution": {
     "iopub.execute_input": "2022-04-11T16:19:07.634172Z",
     "iopub.status.busy": "2022-04-11T16:19:07.632663Z",
     "iopub.status.idle": "2022-04-11T16:19:07.661943Z",
     "shell.execute_reply": "2022-04-11T16:19:07.660534Z"
    },
    "papermill": {
     "duration": 0.118436,
     "end_time": "2022-04-11T16:19:07.662081",
     "exception": false,
     "start_time": "2022-04-11T16:19:07.543645",
     "status": "completed"
    },
    "tags": []
   },
   "outputs": [
    {
     "data": {
      "text/html": [
       "<table class=\"dataframe\">\n",
       "<caption>A data.frame: 22 × 3</caption>\n",
       "<thead>\n",
       "\t<tr><th scope=col>sheet_name</th><th scope=col>total_na_values</th><th scope=col>total_duplicate_values</th></tr>\n",
       "\t<tr><th scope=col>&lt;chr&gt;</th><th scope=col>&lt;chr&gt;</th><th scope=col>&lt;chr&gt;</th></tr>\n",
       "</thead>\n",
       "<tbody>\n",
       "\t<tr><td>states_data_18        </td><td>0 </td><td>0</td></tr>\n",
       "\t<tr><td>victims_18            </td><td>0 </td><td>0</td></tr>\n",
       "\t<tr><td>rescued_victims_18    </td><td>0 </td><td>0</td></tr>\n",
       "\t<tr><td>victims_nationality_18</td><td>0 </td><td>0</td></tr>\n",
       "\t<tr><td>culprit_disposal_18   </td><td>0 </td><td>0</td></tr>\n",
       "\t<tr><td>cases_disposal_18     </td><td>13</td><td>0</td></tr>\n",
       "\t<tr><td>purpose_18            </td><td>0 </td><td>0</td></tr>\n",
       "\t<tr><td>states_data_19        </td><td>0 </td><td>0</td></tr>\n",
       "\t<tr><td>victims_19            </td><td>0 </td><td>0</td></tr>\n",
       "\t<tr><td>rescued_victims_19    </td><td>0 </td><td>0</td></tr>\n",
       "\t<tr><td>victims_nationality_19</td><td>0 </td><td>0</td></tr>\n",
       "\t<tr><td>culprit_disposal_19   </td><td>0 </td><td>0</td></tr>\n",
       "\t<tr><td>cases_disposal_19     </td><td>24</td><td>0</td></tr>\n",
       "\t<tr><td>purpose_19            </td><td>0 </td><td>0</td></tr>\n",
       "\t<tr><td>states_data_20        </td><td>10</td><td>0</td></tr>\n",
       "\t<tr><td>victims_20            </td><td>0 </td><td>0</td></tr>\n",
       "\t<tr><td>rescued_victims_20    </td><td>0 </td><td>0</td></tr>\n",
       "\t<tr><td>victims_nationality_20</td><td>0 </td><td>0</td></tr>\n",
       "\t<tr><td>culprit_disposal_20   </td><td>0 </td><td>0</td></tr>\n",
       "\t<tr><td>cases_disposal_20     </td><td>29</td><td>0</td></tr>\n",
       "\t<tr><td>purpose_20            </td><td>0 </td><td>0</td></tr>\n",
       "\t<tr><td>aht_units_20          </td><td>0 </td><td>0</td></tr>\n",
       "</tbody>\n",
       "</table>\n"
      ],
      "text/latex": [
       "A data.frame: 22 × 3\n",
       "\\begin{tabular}{lll}\n",
       " sheet\\_name & total\\_na\\_values & total\\_duplicate\\_values\\\\\n",
       " <chr> & <chr> & <chr>\\\\\n",
       "\\hline\n",
       "\t states\\_data\\_18         & 0  & 0\\\\\n",
       "\t victims\\_18             & 0  & 0\\\\\n",
       "\t rescued\\_victims\\_18     & 0  & 0\\\\\n",
       "\t victims\\_nationality\\_18 & 0  & 0\\\\\n",
       "\t culprit\\_disposal\\_18    & 0  & 0\\\\\n",
       "\t cases\\_disposal\\_18      & 13 & 0\\\\\n",
       "\t purpose\\_18             & 0  & 0\\\\\n",
       "\t states\\_data\\_19         & 0  & 0\\\\\n",
       "\t victims\\_19             & 0  & 0\\\\\n",
       "\t rescued\\_victims\\_19     & 0  & 0\\\\\n",
       "\t victims\\_nationality\\_19 & 0  & 0\\\\\n",
       "\t culprit\\_disposal\\_19    & 0  & 0\\\\\n",
       "\t cases\\_disposal\\_19      & 24 & 0\\\\\n",
       "\t purpose\\_19             & 0  & 0\\\\\n",
       "\t states\\_data\\_20         & 10 & 0\\\\\n",
       "\t victims\\_20             & 0  & 0\\\\\n",
       "\t rescued\\_victims\\_20     & 0  & 0\\\\\n",
       "\t victims\\_nationality\\_20 & 0  & 0\\\\\n",
       "\t culprit\\_disposal\\_20    & 0  & 0\\\\\n",
       "\t cases\\_disposal\\_20      & 29 & 0\\\\\n",
       "\t purpose\\_20             & 0  & 0\\\\\n",
       "\t aht\\_units\\_20           & 0  & 0\\\\\n",
       "\\end{tabular}\n"
      ],
      "text/markdown": [
       "\n",
       "A data.frame: 22 × 3\n",
       "\n",
       "| sheet_name &lt;chr&gt; | total_na_values &lt;chr&gt; | total_duplicate_values &lt;chr&gt; |\n",
       "|---|---|---|\n",
       "| states_data_18         | 0  | 0 |\n",
       "| victims_18             | 0  | 0 |\n",
       "| rescued_victims_18     | 0  | 0 |\n",
       "| victims_nationality_18 | 0  | 0 |\n",
       "| culprit_disposal_18    | 0  | 0 |\n",
       "| cases_disposal_18      | 13 | 0 |\n",
       "| purpose_18             | 0  | 0 |\n",
       "| states_data_19         | 0  | 0 |\n",
       "| victims_19             | 0  | 0 |\n",
       "| rescued_victims_19     | 0  | 0 |\n",
       "| victims_nationality_19 | 0  | 0 |\n",
       "| culprit_disposal_19    | 0  | 0 |\n",
       "| cases_disposal_19      | 24 | 0 |\n",
       "| purpose_19             | 0  | 0 |\n",
       "| states_data_20         | 10 | 0 |\n",
       "| victims_20             | 0  | 0 |\n",
       "| rescued_victims_20     | 0  | 0 |\n",
       "| victims_nationality_20 | 0  | 0 |\n",
       "| culprit_disposal_20    | 0  | 0 |\n",
       "| cases_disposal_20      | 29 | 0 |\n",
       "| purpose_20             | 0  | 0 |\n",
       "| aht_units_20           | 0  | 0 |\n",
       "\n"
      ],
      "text/plain": [
       "   sheet_name             total_na_values total_duplicate_values\n",
       "1  states_data_18         0               0                     \n",
       "2  victims_18             0               0                     \n",
       "3  rescued_victims_18     0               0                     \n",
       "4  victims_nationality_18 0               0                     \n",
       "5  culprit_disposal_18    0               0                     \n",
       "6  cases_disposal_18      13              0                     \n",
       "7  purpose_18             0               0                     \n",
       "8  states_data_19         0               0                     \n",
       "9  victims_19             0               0                     \n",
       "10 rescued_victims_19     0               0                     \n",
       "11 victims_nationality_19 0               0                     \n",
       "12 culprit_disposal_19    0               0                     \n",
       "13 cases_disposal_19      24              0                     \n",
       "14 purpose_19             0               0                     \n",
       "15 states_data_20         10              0                     \n",
       "16 victims_20             0               0                     \n",
       "17 rescued_victims_20     0               0                     \n",
       "18 victims_nationality_20 0               0                     \n",
       "19 culprit_disposal_20    0               0                     \n",
       "20 cases_disposal_20      29              0                     \n",
       "21 purpose_20             0               0                     \n",
       "22 aht_units_20           0               0                     "
      ]
     },
     "metadata": {},
     "output_type": "display_data"
    }
   ],
   "source": [
    "df_summary"
   ]
  },
  {
   "cell_type": "markdown",
   "id": "570a6b81",
   "metadata": {
    "papermill": {
     "duration": 0.088089,
     "end_time": "2022-04-11T16:19:07.838772",
     "exception": false,
     "start_time": "2022-04-11T16:19:07.750683",
     "status": "completed"
    },
    "tags": []
   },
   "source": [
    "From the summary table, it is clear that missing values are present in 4 files:\n",
    "1. cases_disposal_18\n",
    "2. cases_disposal_19\n",
    "3. cases_disposal_20  \n",
    "4. states_data_20  \n",
    "And no duplicate rows were found in any of the files.\n"
   ]
  },
  {
   "cell_type": "markdown",
   "id": "8b7bc9b9",
   "metadata": {
    "papermill": {
     "duration": 0.08821,
     "end_time": "2022-04-11T16:19:08.015455",
     "exception": false,
     "start_time": "2022-04-11T16:19:07.927245",
     "status": "completed"
    },
    "tags": []
   },
   "source": [
    "Some of the files have 1st column named as **`states`** and other files have 1st column named as **`states_ut`**. This column gives the names of all states and union territories in India.\n",
    "Hence, the following code renames this column of all the files as **`state_ut`** to bring uniformity."
   ]
  },
  {
   "cell_type": "code",
   "execution_count": 8,
   "id": "88b82833",
   "metadata": {
    "execution": {
     "iopub.execute_input": "2022-04-11T16:19:08.198379Z",
     "iopub.status.busy": "2022-04-11T16:19:08.196187Z",
     "iopub.status.idle": "2022-04-11T16:19:08.226841Z",
     "shell.execute_reply": "2022-04-11T16:19:08.225636Z"
    },
    "papermill": {
     "duration": 0.123588,
     "end_time": "2022-04-11T16:19:08.226998",
     "exception": false,
     "start_time": "2022-04-11T16:19:08.103410",
     "status": "completed"
    },
    "tags": []
   },
   "outputs": [],
   "source": [
    "#removing the s_no column & chargesheeting_rate from states_data_18 to bring uniformity. \n",
    "#None of the other files have this col.\n",
    "states_data_18 <- states_data_18 %>% select(-s_no)"
   ]
  },
  {
   "cell_type": "code",
   "execution_count": 9,
   "id": "97682923",
   "metadata": {
    "execution": {
     "iopub.execute_input": "2022-04-11T16:19:08.410424Z",
     "iopub.status.busy": "2022-04-11T16:19:08.408709Z",
     "iopub.status.idle": "2022-04-11T16:19:08.463197Z",
     "shell.execute_reply": "2022-04-11T16:19:08.461691Z"
    },
    "papermill": {
     "duration": 0.147598,
     "end_time": "2022-04-11T16:19:08.463388",
     "exception": false,
     "start_time": "2022-04-11T16:19:08.315790",
     "status": "completed"
    },
    "tags": []
   },
   "outputs": [],
   "source": [
    "#renaming the column names of all 22 files to bring uniformity\n",
    "for (i in dataframe_names) {\n",
    "    assign(i,rename(get(i),states_ut=colnames(get(i))[1]))\n",
    "}"
   ]
  },
  {
   "cell_type": "markdown",
   "id": "cf697726",
   "metadata": {
    "papermill": {
     "duration": 0.089174,
     "end_time": "2022-04-11T16:19:08.642007",
     "exception": false,
     "start_time": "2022-04-11T16:19:08.552833",
     "status": "completed"
    },
    "tags": []
   },
   "source": [
    "#### 3. Inconsistent Data Type of Columns\n",
    "\n",
    "I checked the data type of columns in each file using **str()** and **glimpse()**.  \n",
    "And the following issues were observed:  \n",
    "1. **states_data_20**- 2 columns,`total_cases_2018`, `total_cases_2019` are character type instead of numeric.\n",
    "2. **victims_nationality_18**- `male`,`female`,`total_rescued` are character type instead of numeric."
   ]
  },
  {
   "cell_type": "code",
   "execution_count": 10,
   "id": "417fd646",
   "metadata": {
    "execution": {
     "iopub.execute_input": "2022-04-11T16:19:08.827137Z",
     "iopub.status.busy": "2022-04-11T16:19:08.825609Z",
     "iopub.status.idle": "2022-04-11T16:19:08.867545Z",
     "shell.execute_reply": "2022-04-11T16:19:08.866242Z"
    },
    "papermill": {
     "duration": 0.13617,
     "end_time": "2022-04-11T16:19:08.867694",
     "exception": false,
     "start_time": "2022-04-11T16:19:08.731524",
     "status": "completed"
    },
    "tags": []
   },
   "outputs": [
    {
     "name": "stdout",
     "output_type": "stream",
     "text": [
      "tibble [36 × 8] (S3: tbl_df/tbl/data.frame)\n",
      " $ states_ut                             : chr [1:36] \"Andhra Pradesh\" \"Arunachal Pradesh\" \"Assam\" \"Bihar\" ...\n",
      " $ total_cases_2018                      : chr [1:36] \"240\" \"3\" \"308\" \"127\" ...\n",
      " $ total_cases_2019                      : chr [1:36] \"245\" \"0\" \"201\" \"106\" ...\n",
      " $ total_cases_2020                      : num [1:36] 171 2 124 75 38 17 13 14 4 140 ...\n",
      " $ mid_year_projected_population_in_lakhs: num [1:36] 526 15.2 347.9 1219 292.4 ...\n",
      " $ rate_of_cognizable_crimes_ipc         : num [1:36] 0.3251 0.1314 0.3564 0.0615 0.13 ...\n",
      " $ chargesheeting_rate                   : num [1:36] 99.2 100 69 93.4 77.4 ...\n",
      " $ region_type                           : chr [1:36] \"state\" \"state\" \"state\" \"state\" ...\n",
      "tibble [144 × 6] (S3: tbl_df/tbl/data.frame)\n",
      " $ states_ut            : chr [1:144] \"Andhra Pradesh\" \"Arunachal Pradesh\" \"Assam\" \"Bihar\" ...\n",
      " $ male                 : chr [1:144] \"1\" \"4\" \"29\" \"466\" ...\n",
      " $ female               : chr [1:144] \"452\" \"0\" \"237\" \"80\" ...\n",
      " $ total_victims_rescued: chr [1:144] \"453\" \"4\" \"266\" \"546\" ...\n",
      " $ nationality          : chr [1:144] \"India\" \"India\" \"India\" \"India\" ...\n",
      " $ region_type          : chr [1:144] \"state\" \"state\" \"state\" \"state\" ...\n"
     ]
    }
   ],
   "source": [
    "str(states_data_20)\n",
    "str(victims_nationality_18)"
   ]
  },
  {
   "cell_type": "markdown",
   "id": "0132e3b4",
   "metadata": {
    "papermill": {
     "duration": 0.092002,
     "end_time": "2022-04-11T16:19:09.050761",
     "exception": false,
     "start_time": "2022-04-11T16:19:08.958759",
     "status": "completed"
    },
    "tags": []
   },
   "source": [
    "Few other observations in the data:\n",
    "1. In some dataframes, the **`state_ut`** column contains '@', '+','\\*' and other such symbols alongside the names of states and Union Territories. These symbols have to be omitted. e.g. **\"Bihar\\@\"**\n",
    "2. Some columns with numeric data contain symbols like '+','\\*','++' etc. These symbols need to be omitted. e.g. **\"24\\+\"**, **\"7\\*\"**\n",
    "3. **An Important Observation:**\n",
    "    1. In the dataframe `states_data_20`, 2 columns`total_cases_2018`, `total_cases_2019` are character type instead of numeric. \n",
    "    2. And some values in these columns have a '+' sign, for e.g. total_cases_2019 for one state is \"54+\".\n",
    "    3. So, before converting these cols to numeric type, these symbols need to be removed. Otherwise the as.numeric() function will convert the cell value to NA. \n",
    "    4. Hence, I have first removed all such symbols in the files and then converted the data type of inconsistent columns to numeric."
   ]
  },
  {
   "cell_type": "code",
   "execution_count": 11,
   "id": "9ad9d29c",
   "metadata": {
    "execution": {
     "iopub.execute_input": "2022-04-11T16:19:09.239796Z",
     "iopub.status.busy": "2022-04-11T16:19:09.238062Z",
     "iopub.status.idle": "2022-04-11T16:19:09.256334Z",
     "shell.execute_reply": "2022-04-11T16:19:09.254772Z"
    },
    "papermill": {
     "duration": 0.114243,
     "end_time": "2022-04-11T16:19:09.256475",
     "exception": false,
     "start_time": "2022-04-11T16:19:09.142232",
     "status": "completed"
    },
    "tags": []
   },
   "outputs": [
    {
     "data": {
      "text/html": [
       "<style>\n",
       ".list-inline {list-style: none; margin:0; padding: 0}\n",
       ".list-inline>li {display: inline-block}\n",
       ".list-inline>li:not(:last-child)::after {content: \"\\00b7\"; padding: 0 .5ex}\n",
       "</style>\n",
       "<ol class=list-inline><li>'states_ut'</li><li>'cases_reported'</li><li>'percentage_share_of_state_2018'</li><li>'mid_year_projected_population_in_lakhs'</li><li>'rate_of_cognizable_crimes_ipc'</li><li>'region_type'</li></ol>\n"
      ],
      "text/latex": [
       "\\begin{enumerate*}\n",
       "\\item 'states\\_ut'\n",
       "\\item 'cases\\_reported'\n",
       "\\item 'percentage\\_share\\_of\\_state\\_2018'\n",
       "\\item 'mid\\_year\\_projected\\_population\\_in\\_lakhs'\n",
       "\\item 'rate\\_of\\_cognizable\\_crimes\\_ipc'\n",
       "\\item 'region\\_type'\n",
       "\\end{enumerate*}\n"
      ],
      "text/markdown": [
       "1. 'states_ut'\n",
       "2. 'cases_reported'\n",
       "3. 'percentage_share_of_state_2018'\n",
       "4. 'mid_year_projected_population_in_lakhs'\n",
       "5. 'rate_of_cognizable_crimes_ipc'\n",
       "6. 'region_type'\n",
       "\n",
       "\n"
      ],
      "text/plain": [
       "[1] \"states_ut\"                             \n",
       "[2] \"cases_reported\"                        \n",
       "[3] \"percentage_share_of_state_2018\"        \n",
       "[4] \"mid_year_projected_population_in_lakhs\"\n",
       "[5] \"rate_of_cognizable_crimes_ipc\"         \n",
       "[6] \"region_type\"                           "
      ]
     },
     "metadata": {},
     "output_type": "display_data"
    }
   ],
   "source": [
    "colnames(states_data_18)"
   ]
  },
  {
   "cell_type": "code",
   "execution_count": 12,
   "id": "e69f542e",
   "metadata": {
    "execution": {
     "iopub.execute_input": "2022-04-11T16:19:09.462592Z",
     "iopub.status.busy": "2022-04-11T16:19:09.460904Z",
     "iopub.status.idle": "2022-04-11T16:19:09.519238Z",
     "shell.execute_reply": "2022-04-11T16:19:09.516867Z"
    },
    "papermill": {
     "duration": 0.161536,
     "end_time": "2022-04-11T16:19:09.519423",
     "exception": false,
     "start_time": "2022-04-11T16:19:09.357887",
     "status": "completed"
    },
    "tags": []
   },
   "outputs": [
    {
     "data": {
      "text/html": [
       "<table class=\"dataframe\">\n",
       "<caption>A tibble: 36 × 8</caption>\n",
       "<thead>\n",
       "\t<tr><th scope=col>states_ut</th><th scope=col>total_cases_2018</th><th scope=col>total_cases_2019</th><th scope=col>total_cases_2020</th><th scope=col>mid_year_projected_population_in_lakhs</th><th scope=col>rate_of_cognizable_crimes_ipc</th><th scope=col>chargesheeting_rate</th><th scope=col>region_type</th></tr>\n",
       "\t<tr><th scope=col>&lt;chr&gt;</th><th scope=col>&lt;chr&gt;</th><th scope=col>&lt;chr&gt;</th><th scope=col>&lt;dbl&gt;</th><th scope=col>&lt;dbl&gt;</th><th scope=col>&lt;dbl&gt;</th><th scope=col>&lt;dbl&gt;</th><th scope=col>&lt;chr&gt;</th></tr>\n",
       "</thead>\n",
       "<tbody>\n",
       "\t<tr><td>Andhra Pradesh        </td><td>240</td><td>245</td><td>171</td><td> 525.99</td><td>0.32510124</td><td> 99.18033</td><td>state          </td></tr>\n",
       "\t<tr><td>Arunachal Pradesh     </td><td>3  </td><td>0  </td><td>  2</td><td>  15.22</td><td>0.13140604</td><td>100.00000</td><td>state          </td></tr>\n",
       "\t<tr><td>Assam                 </td><td>308</td><td>201</td><td>124</td><td> 347.93</td><td>0.35639353</td><td> 69.00000</td><td>state          </td></tr>\n",
       "\t<tr><td>Bihar                 </td><td>127</td><td>106</td><td> 75</td><td>1218.95</td><td>0.06152836</td><td> 93.44262</td><td>state          </td></tr>\n",
       "\t<tr><td>Chhattisgarh          </td><td>51 </td><td>50 </td><td> 38</td><td> 292.37</td><td>0.12997230</td><td> 77.41935</td><td>state          </td></tr>\n",
       "\t<tr><td>Goa                   </td><td>55 </td><td>38 </td><td> 17</td><td>  15.53</td><td>1.09465551</td><td> 95.23810</td><td>state          </td></tr>\n",
       "\t<tr><td>Gujarat               </td><td>13 </td><td>11 </td><td> 13</td><td> 691.71</td><td>0.01879400</td><td> 90.90909</td><td>state          </td></tr>\n",
       "\t<tr><td>Haryana               </td><td>34 </td><td>15 </td><td> 14</td><td> 292.13</td><td>0.04792387</td><td> 66.66667</td><td>state          </td></tr>\n",
       "\t<tr><td>Himachal Pradesh      </td><td>6  </td><td>11 </td><td>  4</td><td>  73.62</td><td>0.05433306</td><td> 50.00000</td><td>state          </td></tr>\n",
       "\t<tr><td>Jharkhand             </td><td>140</td><td>177</td><td>140</td><td> 381.15</td><td>0.36730946</td><td> 59.78261</td><td>state          </td></tr>\n",
       "\t<tr><td>Karnataka             </td><td>27 </td><td>32 </td><td> 13</td><td> 664.96</td><td>0.01955005</td><td> 95.23810</td><td>state          </td></tr>\n",
       "\t<tr><td>Kerala                </td><td>105</td><td>180</td><td>166</td><td> 353.68</td><td>0.46935083</td><td> 93.29897</td><td>state          </td></tr>\n",
       "\t<tr><td>Madhya Pradesh        </td><td>63 </td><td>73 </td><td> 80</td><td> 837.55</td><td>0.09551669</td><td> 97.26027</td><td>state          </td></tr>\n",
       "\t<tr><td>Maharashtra           </td><td>311</td><td>282</td><td>184</td><td>1236.76</td><td>0.14877583</td><td> 99.40476</td><td>state          </td></tr>\n",
       "\t<tr><td>Manipur               </td><td>3  </td><td>9  </td><td>  6</td><td>  31.42</td><td>0.19096117</td><td>       NA</td><td>state          </td></tr>\n",
       "\t<tr><td>Meghalaya             </td><td>24 </td><td>22 </td><td>  1</td><td>  32.64</td><td>0.03063725</td><td>       NA</td><td>state          </td></tr>\n",
       "\t<tr><td>Mizoram               </td><td>2  </td><td>7  </td><td>  0</td><td>  12.07</td><td>0.00000000</td><td>       NA</td><td>state          </td></tr>\n",
       "\t<tr><td>Nagaland              </td><td>0  </td><td>3  </td><td>  0</td><td>  21.77</td><td>0.00000000</td><td>100.00000</td><td>state          </td></tr>\n",
       "\t<tr><td>Odisha                </td><td>75 </td><td>147</td><td>103</td><td> 454.65</td><td>0.22654789</td><td> 85.29412</td><td>state          </td></tr>\n",
       "\t<tr><td>Punjab                </td><td>17 </td><td>19 </td><td> 17</td><td> 301.79</td><td>0.05633056</td><td> 80.00000</td><td>state          </td></tr>\n",
       "\t<tr><td>Rajasthan             </td><td>86 </td><td>141</td><td>128</td><td> 786.09</td><td>0.16283123</td><td> 98.26087</td><td>state          </td></tr>\n",
       "\t<tr><td>Sikkim                </td><td>1  </td><td>0  </td><td>  1</td><td>   6.72</td><td>0.14880952</td><td>       NA</td><td>state          </td></tr>\n",
       "\t<tr><td>Tamil Nadu            </td><td>8  </td><td>16 </td><td> 11</td><td> 761.67</td><td>0.01444195</td><td>100.00000</td><td>state          </td></tr>\n",
       "\t<tr><td>Telangana             </td><td>242</td><td>137</td><td>184</td><td> 375.36</td><td>0.49019608</td><td> 98.41270</td><td>state          </td></tr>\n",
       "\t<tr><td>Tripura               </td><td>2  </td><td>1  </td><td>  1</td><td>  40.42</td><td>0.02474023</td><td>100.00000</td><td>state          </td></tr>\n",
       "\t<tr><td>Uttar Pradesh         </td><td>35 </td><td>48 </td><td> 90</td><td>2289.31</td><td>0.03931316</td><td>100.00000</td><td>state          </td></tr>\n",
       "\t<tr><td>Uttarakhand           </td><td>29 </td><td>20 </td><td>  9</td><td> 113.13</td><td>0.07955449</td><td> 86.66667</td><td>state          </td></tr>\n",
       "\t<tr><td>West Bengal           </td><td>172</td><td>120</td><td> 59</td><td> 977.19</td><td>0.06037720</td><td> 57.44681</td><td>state          </td></tr>\n",
       "\t<tr><td><span style=white-space:pre-wrap>A &amp; N Islands         </span></td><td><span style=white-space:pre-wrap>0  </span></td><td><span style=white-space:pre-wrap>0  </span></td><td><span style=white-space:pre-wrap>  0</span></td><td><span style=white-space:pre-wrap>   3.99</span></td><td>0.00000000</td><td>100.00000</td><td>union territory</td></tr>\n",
       "\t<tr><td>Chandigarh            </td><td>0  </td><td>2  </td><td>  2</td><td>  11.98</td><td>0.16694491</td><td>100.00000</td><td>union territory</td></tr>\n",
       "\t<tr><td><span style=white-space:pre-wrap>DNH  and  Daman &amp; Diu@</span></td><td>0+ </td><td>0+ </td><td><span style=white-space:pre-wrap>  2</span></td><td><span style=white-space:pre-wrap>  10.38</span></td><td>0.19267823</td><td>100.00000</td><td>union territory</td></tr>\n",
       "\t<tr><td>Delhi UT              </td><td>98 </td><td>93 </td><td> 53</td><td> 203.19</td><td>0.26083961</td><td> 67.50000</td><td>union territory</td></tr>\n",
       "\t<tr><td><span style=white-space:pre-wrap>Jammu &amp; Kashmir       </span></td><td><span style=white-space:pre-wrap>1  </span></td><td><span style=white-space:pre-wrap>0  </span></td><td><span style=white-space:pre-wrap>  2</span></td><td> 133.40</td><td>0.01499250</td><td>100.00000</td><td>union territory</td></tr>\n",
       "\t<tr><td>Ladakh @              </td><td>NA </td><td>NA </td><td>  0</td><td>   2.96</td><td>        NA</td><td>       NA</td><td>union territory</td></tr>\n",
       "\t<tr><td>Lakshadweep           </td><td>0  </td><td>0  </td><td>  0</td><td>   0.68</td><td>0.00000000</td><td>       NA</td><td>union territory</td></tr>\n",
       "\t<tr><td>Puducherry            </td><td>0  </td><td>2  </td><td>  4</td><td>  15.49</td><td>0.25823112</td><td>       NA</td><td>union territory</td></tr>\n",
       "</tbody>\n",
       "</table>\n"
      ],
      "text/latex": [
       "A tibble: 36 × 8\n",
       "\\begin{tabular}{llllllll}\n",
       " states\\_ut & total\\_cases\\_2018 & total\\_cases\\_2019 & total\\_cases\\_2020 & mid\\_year\\_projected\\_population\\_in\\_lakhs & rate\\_of\\_cognizable\\_crimes\\_ipc & chargesheeting\\_rate & region\\_type\\\\\n",
       " <chr> & <chr> & <chr> & <dbl> & <dbl> & <dbl> & <dbl> & <chr>\\\\\n",
       "\\hline\n",
       "\t Andhra Pradesh         & 240 & 245 & 171 &  525.99 & 0.32510124 &  99.18033 & state          \\\\\n",
       "\t Arunachal Pradesh      & 3   & 0   &   2 &   15.22 & 0.13140604 & 100.00000 & state          \\\\\n",
       "\t Assam                  & 308 & 201 & 124 &  347.93 & 0.35639353 &  69.00000 & state          \\\\\n",
       "\t Bihar                  & 127 & 106 &  75 & 1218.95 & 0.06152836 &  93.44262 & state          \\\\\n",
       "\t Chhattisgarh           & 51  & 50  &  38 &  292.37 & 0.12997230 &  77.41935 & state          \\\\\n",
       "\t Goa                    & 55  & 38  &  17 &   15.53 & 1.09465551 &  95.23810 & state          \\\\\n",
       "\t Gujarat                & 13  & 11  &  13 &  691.71 & 0.01879400 &  90.90909 & state          \\\\\n",
       "\t Haryana                & 34  & 15  &  14 &  292.13 & 0.04792387 &  66.66667 & state          \\\\\n",
       "\t Himachal Pradesh       & 6   & 11  &   4 &   73.62 & 0.05433306 &  50.00000 & state          \\\\\n",
       "\t Jharkhand              & 140 & 177 & 140 &  381.15 & 0.36730946 &  59.78261 & state          \\\\\n",
       "\t Karnataka              & 27  & 32  &  13 &  664.96 & 0.01955005 &  95.23810 & state          \\\\\n",
       "\t Kerala                 & 105 & 180 & 166 &  353.68 & 0.46935083 &  93.29897 & state          \\\\\n",
       "\t Madhya Pradesh         & 63  & 73  &  80 &  837.55 & 0.09551669 &  97.26027 & state          \\\\\n",
       "\t Maharashtra            & 311 & 282 & 184 & 1236.76 & 0.14877583 &  99.40476 & state          \\\\\n",
       "\t Manipur                & 3   & 9   &   6 &   31.42 & 0.19096117 &        NA & state          \\\\\n",
       "\t Meghalaya              & 24  & 22  &   1 &   32.64 & 0.03063725 &        NA & state          \\\\\n",
       "\t Mizoram                & 2   & 7   &   0 &   12.07 & 0.00000000 &        NA & state          \\\\\n",
       "\t Nagaland               & 0   & 3   &   0 &   21.77 & 0.00000000 & 100.00000 & state          \\\\\n",
       "\t Odisha                 & 75  & 147 & 103 &  454.65 & 0.22654789 &  85.29412 & state          \\\\\n",
       "\t Punjab                 & 17  & 19  &  17 &  301.79 & 0.05633056 &  80.00000 & state          \\\\\n",
       "\t Rajasthan              & 86  & 141 & 128 &  786.09 & 0.16283123 &  98.26087 & state          \\\\\n",
       "\t Sikkim                 & 1   & 0   &   1 &    6.72 & 0.14880952 &        NA & state          \\\\\n",
       "\t Tamil Nadu             & 8   & 16  &  11 &  761.67 & 0.01444195 & 100.00000 & state          \\\\\n",
       "\t Telangana              & 242 & 137 & 184 &  375.36 & 0.49019608 &  98.41270 & state          \\\\\n",
       "\t Tripura                & 2   & 1   &   1 &   40.42 & 0.02474023 & 100.00000 & state          \\\\\n",
       "\t Uttar Pradesh          & 35  & 48  &  90 & 2289.31 & 0.03931316 & 100.00000 & state          \\\\\n",
       "\t Uttarakhand            & 29  & 20  &   9 &  113.13 & 0.07955449 &  86.66667 & state          \\\\\n",
       "\t West Bengal            & 172 & 120 &  59 &  977.19 & 0.06037720 &  57.44681 & state          \\\\\n",
       "\t A \\& N Islands          & 0   & 0   &   0 &    3.99 & 0.00000000 & 100.00000 & union territory\\\\\n",
       "\t Chandigarh             & 0   & 2   &   2 &   11.98 & 0.16694491 & 100.00000 & union territory\\\\\n",
       "\t DNH  and  Daman \\& Diu@ & 0+  & 0+  &   2 &   10.38 & 0.19267823 & 100.00000 & union territory\\\\\n",
       "\t Delhi UT               & 98  & 93  &  53 &  203.19 & 0.26083961 &  67.50000 & union territory\\\\\n",
       "\t Jammu \\& Kashmir        & 1   & 0   &   2 &  133.40 & 0.01499250 & 100.00000 & union territory\\\\\n",
       "\t Ladakh @               & NA  & NA  &   0 &    2.96 &         NA &        NA & union territory\\\\\n",
       "\t Lakshadweep            & 0   & 0   &   0 &    0.68 & 0.00000000 &        NA & union territory\\\\\n",
       "\t Puducherry             & 0   & 2   &   4 &   15.49 & 0.25823112 &        NA & union territory\\\\\n",
       "\\end{tabular}\n"
      ],
      "text/markdown": [
       "\n",
       "A tibble: 36 × 8\n",
       "\n",
       "| states_ut &lt;chr&gt; | total_cases_2018 &lt;chr&gt; | total_cases_2019 &lt;chr&gt; | total_cases_2020 &lt;dbl&gt; | mid_year_projected_population_in_lakhs &lt;dbl&gt; | rate_of_cognizable_crimes_ipc &lt;dbl&gt; | chargesheeting_rate &lt;dbl&gt; | region_type &lt;chr&gt; |\n",
       "|---|---|---|---|---|---|---|---|\n",
       "| Andhra Pradesh         | 240 | 245 | 171 |  525.99 | 0.32510124 |  99.18033 | state           |\n",
       "| Arunachal Pradesh      | 3   | 0   |   2 |   15.22 | 0.13140604 | 100.00000 | state           |\n",
       "| Assam                  | 308 | 201 | 124 |  347.93 | 0.35639353 |  69.00000 | state           |\n",
       "| Bihar                  | 127 | 106 |  75 | 1218.95 | 0.06152836 |  93.44262 | state           |\n",
       "| Chhattisgarh           | 51  | 50  |  38 |  292.37 | 0.12997230 |  77.41935 | state           |\n",
       "| Goa                    | 55  | 38  |  17 |   15.53 | 1.09465551 |  95.23810 | state           |\n",
       "| Gujarat                | 13  | 11  |  13 |  691.71 | 0.01879400 |  90.90909 | state           |\n",
       "| Haryana                | 34  | 15  |  14 |  292.13 | 0.04792387 |  66.66667 | state           |\n",
       "| Himachal Pradesh       | 6   | 11  |   4 |   73.62 | 0.05433306 |  50.00000 | state           |\n",
       "| Jharkhand              | 140 | 177 | 140 |  381.15 | 0.36730946 |  59.78261 | state           |\n",
       "| Karnataka              | 27  | 32  |  13 |  664.96 | 0.01955005 |  95.23810 | state           |\n",
       "| Kerala                 | 105 | 180 | 166 |  353.68 | 0.46935083 |  93.29897 | state           |\n",
       "| Madhya Pradesh         | 63  | 73  |  80 |  837.55 | 0.09551669 |  97.26027 | state           |\n",
       "| Maharashtra            | 311 | 282 | 184 | 1236.76 | 0.14877583 |  99.40476 | state           |\n",
       "| Manipur                | 3   | 9   |   6 |   31.42 | 0.19096117 |        NA | state           |\n",
       "| Meghalaya              | 24  | 22  |   1 |   32.64 | 0.03063725 |        NA | state           |\n",
       "| Mizoram                | 2   | 7   |   0 |   12.07 | 0.00000000 |        NA | state           |\n",
       "| Nagaland               | 0   | 3   |   0 |   21.77 | 0.00000000 | 100.00000 | state           |\n",
       "| Odisha                 | 75  | 147 | 103 |  454.65 | 0.22654789 |  85.29412 | state           |\n",
       "| Punjab                 | 17  | 19  |  17 |  301.79 | 0.05633056 |  80.00000 | state           |\n",
       "| Rajasthan              | 86  | 141 | 128 |  786.09 | 0.16283123 |  98.26087 | state           |\n",
       "| Sikkim                 | 1   | 0   |   1 |    6.72 | 0.14880952 |        NA | state           |\n",
       "| Tamil Nadu             | 8   | 16  |  11 |  761.67 | 0.01444195 | 100.00000 | state           |\n",
       "| Telangana              | 242 | 137 | 184 |  375.36 | 0.49019608 |  98.41270 | state           |\n",
       "| Tripura                | 2   | 1   |   1 |   40.42 | 0.02474023 | 100.00000 | state           |\n",
       "| Uttar Pradesh          | 35  | 48  |  90 | 2289.31 | 0.03931316 | 100.00000 | state           |\n",
       "| Uttarakhand            | 29  | 20  |   9 |  113.13 | 0.07955449 |  86.66667 | state           |\n",
       "| West Bengal            | 172 | 120 |  59 |  977.19 | 0.06037720 |  57.44681 | state           |\n",
       "| A &amp; N Islands          | 0   | 0   |   0 |    3.99 | 0.00000000 | 100.00000 | union territory |\n",
       "| Chandigarh             | 0   | 2   |   2 |   11.98 | 0.16694491 | 100.00000 | union territory |\n",
       "| DNH  and  Daman &amp; Diu@ | 0+  | 0+  |   2 |   10.38 | 0.19267823 | 100.00000 | union territory |\n",
       "| Delhi UT               | 98  | 93  |  53 |  203.19 | 0.26083961 |  67.50000 | union territory |\n",
       "| Jammu &amp; Kashmir        | 1   | 0   |   2 |  133.40 | 0.01499250 | 100.00000 | union territory |\n",
       "| Ladakh @               | NA  | NA  |   0 |    2.96 |         NA |        NA | union territory |\n",
       "| Lakshadweep            | 0   | 0   |   0 |    0.68 | 0.00000000 |        NA | union territory |\n",
       "| Puducherry             | 0   | 2   |   4 |   15.49 | 0.25823112 |        NA | union territory |\n",
       "\n"
      ],
      "text/plain": [
       "   states_ut              total_cases_2018 total_cases_2019 total_cases_2020\n",
       "1  Andhra Pradesh         240              245              171             \n",
       "2  Arunachal Pradesh      3                0                  2             \n",
       "3  Assam                  308              201              124             \n",
       "4  Bihar                  127              106               75             \n",
       "5  Chhattisgarh           51               50                38             \n",
       "6  Goa                    55               38                17             \n",
       "7  Gujarat                13               11                13             \n",
       "8  Haryana                34               15                14             \n",
       "9  Himachal Pradesh       6                11                 4             \n",
       "10 Jharkhand              140              177              140             \n",
       "11 Karnataka              27               32                13             \n",
       "12 Kerala                 105              180              166             \n",
       "13 Madhya Pradesh         63               73                80             \n",
       "14 Maharashtra            311              282              184             \n",
       "15 Manipur                3                9                  6             \n",
       "16 Meghalaya              24               22                 1             \n",
       "17 Mizoram                2                7                  0             \n",
       "18 Nagaland               0                3                  0             \n",
       "19 Odisha                 75               147              103             \n",
       "20 Punjab                 17               19                17             \n",
       "21 Rajasthan              86               141              128             \n",
       "22 Sikkim                 1                0                  1             \n",
       "23 Tamil Nadu             8                16                11             \n",
       "24 Telangana              242              137              184             \n",
       "25 Tripura                2                1                  1             \n",
       "26 Uttar Pradesh          35               48                90             \n",
       "27 Uttarakhand            29               20                 9             \n",
       "28 West Bengal            172              120               59             \n",
       "29 A & N Islands          0                0                  0             \n",
       "30 Chandigarh             0                2                  2             \n",
       "31 DNH  and  Daman & Diu@ 0+               0+                 2             \n",
       "32 Delhi UT               98               93                53             \n",
       "33 Jammu & Kashmir        1                0                  2             \n",
       "34 Ladakh @               NA               NA                 0             \n",
       "35 Lakshadweep            0                0                  0             \n",
       "36 Puducherry             0                2                  4             \n",
       "   mid_year_projected_population_in_lakhs rate_of_cognizable_crimes_ipc\n",
       "1   525.99                                0.32510124                   \n",
       "2    15.22                                0.13140604                   \n",
       "3   347.93                                0.35639353                   \n",
       "4  1218.95                                0.06152836                   \n",
       "5   292.37                                0.12997230                   \n",
       "6    15.53                                1.09465551                   \n",
       "7   691.71                                0.01879400                   \n",
       "8   292.13                                0.04792387                   \n",
       "9    73.62                                0.05433306                   \n",
       "10  381.15                                0.36730946                   \n",
       "11  664.96                                0.01955005                   \n",
       "12  353.68                                0.46935083                   \n",
       "13  837.55                                0.09551669                   \n",
       "14 1236.76                                0.14877583                   \n",
       "15   31.42                                0.19096117                   \n",
       "16   32.64                                0.03063725                   \n",
       "17   12.07                                0.00000000                   \n",
       "18   21.77                                0.00000000                   \n",
       "19  454.65                                0.22654789                   \n",
       "20  301.79                                0.05633056                   \n",
       "21  786.09                                0.16283123                   \n",
       "22    6.72                                0.14880952                   \n",
       "23  761.67                                0.01444195                   \n",
       "24  375.36                                0.49019608                   \n",
       "25   40.42                                0.02474023                   \n",
       "26 2289.31                                0.03931316                   \n",
       "27  113.13                                0.07955449                   \n",
       "28  977.19                                0.06037720                   \n",
       "29    3.99                                0.00000000                   \n",
       "30   11.98                                0.16694491                   \n",
       "31   10.38                                0.19267823                   \n",
       "32  203.19                                0.26083961                   \n",
       "33  133.40                                0.01499250                   \n",
       "34    2.96                                        NA                   \n",
       "35    0.68                                0.00000000                   \n",
       "36   15.49                                0.25823112                   \n",
       "   chargesheeting_rate region_type    \n",
       "1   99.18033           state          \n",
       "2  100.00000           state          \n",
       "3   69.00000           state          \n",
       "4   93.44262           state          \n",
       "5   77.41935           state          \n",
       "6   95.23810           state          \n",
       "7   90.90909           state          \n",
       "8   66.66667           state          \n",
       "9   50.00000           state          \n",
       "10  59.78261           state          \n",
       "11  95.23810           state          \n",
       "12  93.29897           state          \n",
       "13  97.26027           state          \n",
       "14  99.40476           state          \n",
       "15        NA           state          \n",
       "16        NA           state          \n",
       "17        NA           state          \n",
       "18 100.00000           state          \n",
       "19  85.29412           state          \n",
       "20  80.00000           state          \n",
       "21  98.26087           state          \n",
       "22        NA           state          \n",
       "23 100.00000           state          \n",
       "24  98.41270           state          \n",
       "25 100.00000           state          \n",
       "26 100.00000           state          \n",
       "27  86.66667           state          \n",
       "28  57.44681           state          \n",
       "29 100.00000           union territory\n",
       "30 100.00000           union territory\n",
       "31 100.00000           union territory\n",
       "32  67.50000           union territory\n",
       "33 100.00000           union territory\n",
       "34        NA           union territory\n",
       "35        NA           union territory\n",
       "36        NA           union territory"
      ]
     },
     "metadata": {},
     "output_type": "display_data"
    }
   ],
   "source": [
    "View(states_data_20)"
   ]
  },
  {
   "cell_type": "code",
   "execution_count": 13,
   "id": "7fdd4ba5",
   "metadata": {
    "execution": {
     "iopub.execute_input": "2022-04-11T16:19:09.734933Z",
     "iopub.status.busy": "2022-04-11T16:19:09.732823Z",
     "iopub.status.idle": "2022-04-11T16:19:09.760748Z",
     "shell.execute_reply": "2022-04-11T16:19:09.759134Z"
    },
    "papermill": {
     "duration": 0.141024,
     "end_time": "2022-04-11T16:19:09.760907",
     "exception": false,
     "start_time": "2022-04-11T16:19:09.619883",
     "status": "completed"
    },
    "tags": []
   },
   "outputs": [],
   "source": [
    "#removing symbols from states_data_20 dataframe\n",
    "states_data_20 <- states_data_20 %>%\n",
    "                    mutate(states_ut = gsub(\"@\",\"\",states_ut),\n",
    "                          total_cases_2018 = gsub(\"\\\\+\",\"\",total_cases_2018),\n",
    "                          total_cases_2019 = gsub(\"\\\\+\",\"\",total_cases_2019))\n",
    "\n"
   ]
  },
  {
   "cell_type": "code",
   "execution_count": 14,
   "id": "ba47263f",
   "metadata": {
    "execution": {
     "iopub.execute_input": "2022-04-11T16:19:09.962354Z",
     "iopub.status.busy": "2022-04-11T16:19:09.960307Z",
     "iopub.status.idle": "2022-04-11T16:19:09.979183Z",
     "shell.execute_reply": "2022-04-11T16:19:09.977579Z"
    },
    "papermill": {
     "duration": 0.121274,
     "end_time": "2022-04-11T16:19:09.979362",
     "exception": false,
     "start_time": "2022-04-11T16:19:09.858088",
     "status": "completed"
    },
    "tags": []
   },
   "outputs": [],
   "source": [
    "#changing the data type of inconsistent columns from character to numeric\n",
    "states_data_20 <- states_data_20 %>%\n",
    "                    mutate(total_cases_2018 = as.numeric(total_cases_2018),\n",
    "                           total_cases_2019 = as.numeric(total_cases_2019))\n"
   ]
  },
  {
   "cell_type": "code",
   "execution_count": 15,
   "id": "43473c8d",
   "metadata": {
    "execution": {
     "iopub.execute_input": "2022-04-11T16:19:10.180527Z",
     "iopub.status.busy": "2022-04-11T16:19:10.178467Z",
     "iopub.status.idle": "2022-04-11T16:19:10.207839Z",
     "shell.execute_reply": "2022-04-11T16:19:10.206206Z"
    },
    "papermill": {
     "duration": 0.131305,
     "end_time": "2022-04-11T16:19:10.207980",
     "exception": false,
     "start_time": "2022-04-11T16:19:10.076675",
     "status": "completed"
    },
    "tags": []
   },
   "outputs": [
    {
     "name": "stderr",
     "output_type": "stream",
     "text": [
      "Warning message in mask$eval_all_mutate(quo):\n",
      "“NAs introduced by coercion”\n",
      "Warning message in mask$eval_all_mutate(quo):\n",
      "“NAs introduced by coercion”\n",
      "Warning message in mask$eval_all_mutate(quo):\n",
      "“NAs introduced by coercion”\n"
     ]
    }
   ],
   "source": [
    "victims_nationality_18 <- victims_nationality_18 %>%\n",
    "                    mutate(male = as.numeric(male),\n",
    "                          female = as.numeric(female),\n",
    "                          total_victims_rescued = as.numeric(total_victims_rescued))"
   ]
  },
  {
   "cell_type": "code",
   "execution_count": null,
   "id": "877834a1",
   "metadata": {
    "papermill": {
     "duration": 0.101171,
     "end_time": "2022-04-11T16:19:10.413043",
     "exception": false,
     "start_time": "2022-04-11T16:19:10.311872",
     "status": "completed"
    },
    "tags": []
   },
   "outputs": [],
   "source": [
    "\n"
   ]
  },
  {
   "cell_type": "markdown",
   "id": "b95d0153",
   "metadata": {
    "papermill": {
     "duration": 0.100973,
     "end_time": "2022-04-11T16:19:10.614817",
     "exception": false,
     "start_time": "2022-04-11T16:19:10.513844",
     "status": "completed"
    },
    "tags": []
   },
   "source": [
    "##### About Missing values:  \n",
    "1. **states_data_20**-  \n",
    "    1. missing values are present in the column `chargesheeting rate`. I won't be using this column and it is not present in the states_data file of 2018, 2019.\n",
    "    2. NA values are also present in the Ladhak row. That's because the combined data of Jammu & Kashmir and Ladhak are present in the Jammu & Kashmir row. Hence, these NA values can be ignored.\n",
    "2. \n"
   ]
  },
  {
   "cell_type": "code",
   "execution_count": 16,
   "id": "90d63a4a",
   "metadata": {
    "execution": {
     "iopub.execute_input": "2022-04-11T16:19:10.827045Z",
     "iopub.status.busy": "2022-04-11T16:19:10.825448Z",
     "iopub.status.idle": "2022-04-11T16:19:10.841912Z",
     "shell.execute_reply": "2022-04-11T16:19:10.840198Z"
    },
    "papermill": {
     "duration": 0.122924,
     "end_time": "2022-04-11T16:19:10.842077",
     "exception": false,
     "start_time": "2022-04-11T16:19:10.719153",
     "status": "completed"
    },
    "tags": []
   },
   "outputs": [],
   "source": [
    "#removing chargesheeting_rate column from states_data_20 file.\n",
    "states_data_20 <- states_data_20 %>% select(-chargesheeting_rate)"
   ]
  },
  {
   "cell_type": "markdown",
   "id": "5d822afa",
   "metadata": {
    "papermill": {
     "duration": 0.10144,
     "end_time": "2022-04-11T16:19:11.044650",
     "exception": false,
     "start_time": "2022-04-11T16:19:10.943210",
     "status": "completed"
    },
    "tags": []
   },
   "source": [
    "In the case disposal files:\n",
    "1. **`case conviction rate`** column contains maximum NA values. That's because conviction rate is calculated as:\n",
    "**`case conviction rate = (cases convicted by court/cases with complete trails)* 100`**  \n",
    "And many rows have 0 cases with complete trials, hence NA values in case conviction rate.  \n",
    "2. **`chargesheeting rate`** column also has NA values. That's because chargesheeting rate has been calculated as:\n",
    "**`(cases chargesheeted/(cases chargesheeted + cases with complete trials)) * 100`**  \n",
    "And if the rate is NA, it means that:  \n",
    "1. either no trafficking cases were reported OR\n",
    "2. no chargesheet was filed for reported cases."
   ]
  },
  {
   "cell_type": "markdown",
   "id": "552ac7c5",
   "metadata": {
    "papermill": {
     "duration": 0.100653,
     "end_time": "2022-04-11T16:19:11.246362",
     "exception": false,
     "start_time": "2022-04-11T16:19:11.145709",
     "status": "completed"
    },
    "tags": []
   },
   "source": [
    "#### Analysis"
   ]
  },
  {
   "cell_type": "code",
   "execution_count": null,
   "id": "7907ba7d",
   "metadata": {
    "papermill": {
     "duration": 0.115983,
     "end_time": "2022-04-11T16:19:11.472757",
     "exception": false,
     "start_time": "2022-04-11T16:19:11.356774",
     "status": "completed"
    },
    "tags": []
   },
   "outputs": [],
   "source": []
  }
 ],
 "metadata": {
  "kernelspec": {
   "display_name": "R",
   "language": "R",
   "name": "ir"
  },
  "language_info": {
   "codemirror_mode": "r",
   "file_extension": ".r",
   "mimetype": "text/x-r-source",
   "name": "R",
   "pygments_lexer": "r",
   "version": "4.0.5"
  },
  "papermill": {
   "default_parameters": {},
   "duration": 11.801482,
   "end_time": "2022-04-11T16:19:11.684416",
   "environment_variables": {},
   "exception": null,
   "input_path": "__notebook__.ipynb",
   "output_path": "__notebook__.ipynb",
   "parameters": {},
   "start_time": "2022-04-11T16:18:59.882934",
   "version": "2.3.3"
  }
 },
 "nbformat": 4,
 "nbformat_minor": 5
}
