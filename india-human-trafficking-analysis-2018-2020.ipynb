{
 "cells": [
  {
   "cell_type": "markdown",
   "id": "9b29ad80",
   "metadata": {
    "_execution_state": "idle",
    "_uuid": "051d70d956493feee0c6d64651c6a088724dca2a",
    "papermill": {
     "duration": 0.082497,
     "end_time": "2022-04-12T15:39:49.427269",
     "exception": false,
     "start_time": "2022-04-12T15:39:49.344772",
     "status": "completed"
    },
    "tags": []
   },
   "source": [
    "#### Why this analysis?\n",
    "\n",
    "`Some recently watched short documentaries/interviews on human trafficking rackets in India blew my mind off 🤯. So, I felt like checking out what the national records have to say about this issue.  \n",
    "I have compiled this dataset from the National Crime Records Bureau, India and also performed an analysis on the same.  \n",
    "Here is my report.`"
   ]
  },
  {
   "cell_type": "markdown",
   "id": "6c12dcb2",
   "metadata": {
    "papermill": {
     "duration": 0.077714,
     "end_time": "2022-04-12T15:39:49.582950",
     "exception": false,
     "start_time": "2022-04-12T15:39:49.505236",
     "status": "completed"
    },
    "tags": []
   },
   "source": [
    "I have mentioned short description about few terms present in the dataset. For further reading, you may refer [this site](https://www.lawteacher.net/free-law-essays/administrative-law/concept-of-a-police-report-administrative-law-essay.php#:~:text=When%20the%20charge%20sheet%20is,Police%20after%20the%20investigation%20process.). \n",
    "\n",
    "1. **Charge Sheet-** is the complaint of a private individual on which criminal proceedings are initiated. When the charge sheet is sent by police to Magistrate, the preliminary stage of investigation and preparation is over.\n",
    "2. **Final report-** The charge sheet is followed by the Final Report. It records the conclusion arrived at by the Police after the investigation process.  \n",
    "\n",
    "***So, if Final Report column contains 0, it implies that the investigation is not yet complete.***\n",
    "    \n",
    " \n"
   ]
  },
  {
   "cell_type": "markdown",
   "id": "2123b384",
   "metadata": {
    "papermill": {
     "duration": 0.07782,
     "end_time": "2022-04-12T15:39:49.738729",
     "exception": false,
     "start_time": "2022-04-12T15:39:49.660909",
     "status": "completed"
    },
    "tags": []
   },
   "source": [
    "#### About the dataset:\n",
    "The data contains number of cases of human trafficking recorded in 2018, 2019 and 2020, in India.  \n",
    "Detailed description of the dataset can be found on the [dataset page](https://www.kaggle.com/datasets/cshefali/human-trafficking-in-india-2018-2020)."
   ]
  },
  {
   "cell_type": "code",
   "execution_count": 1,
   "id": "d805b8ec",
   "metadata": {
    "execution": {
     "iopub.execute_input": "2022-04-12T15:39:49.901256Z",
     "iopub.status.busy": "2022-04-12T15:39:49.898513Z",
     "iopub.status.idle": "2022-04-12T15:39:51.329253Z",
     "shell.execute_reply": "2022-04-12T15:39:51.327543Z"
    },
    "papermill": {
     "duration": 1.513484,
     "end_time": "2022-04-12T15:39:51.329437",
     "exception": false,
     "start_time": "2022-04-12T15:39:49.815953",
     "status": "completed"
    },
    "tags": []
   },
   "outputs": [
    {
     "name": "stderr",
     "output_type": "stream",
     "text": [
      "── \u001b[1mAttaching packages\u001b[22m ─────────────────────────────────────── tidyverse 1.3.1 ──\n",
      "\n",
      "\u001b[32m✔\u001b[39m \u001b[34mggplot2\u001b[39m 3.3.5     \u001b[32m✔\u001b[39m \u001b[34mpurrr  \u001b[39m 0.3.4\n",
      "\u001b[32m✔\u001b[39m \u001b[34mtibble \u001b[39m 3.1.5     \u001b[32m✔\u001b[39m \u001b[34mdplyr  \u001b[39m 1.0.7\n",
      "\u001b[32m✔\u001b[39m \u001b[34mtidyr  \u001b[39m 1.1.4     \u001b[32m✔\u001b[39m \u001b[34mstringr\u001b[39m 1.4.0\n",
      "\u001b[32m✔\u001b[39m \u001b[34mreadr  \u001b[39m 2.0.2     \u001b[32m✔\u001b[39m \u001b[34mforcats\u001b[39m 0.5.1\n",
      "\n",
      "── \u001b[1mConflicts\u001b[22m ────────────────────────────────────────── tidyverse_conflicts() ──\n",
      "\u001b[31m✖\u001b[39m \u001b[34mdplyr\u001b[39m::\u001b[32mfilter()\u001b[39m masks \u001b[34mstats\u001b[39m::filter()\n",
      "\u001b[31m✖\u001b[39m \u001b[34mdplyr\u001b[39m::\u001b[32mlag()\u001b[39m    masks \u001b[34mstats\u001b[39m::lag()\n",
      "\n",
      "\n",
      "Attaching package: ‘janitor’\n",
      "\n",
      "\n",
      "The following objects are masked from ‘package:stats’:\n",
      "\n",
      "    chisq.test, fisher.test\n",
      "\n",
      "\n"
     ]
    }
   ],
   "source": [
    "#Load all the relevant packages.\n",
    "library(tidyverse) # metapackage of all tidyverse packages\n",
    "library(janitor) #for data cleaning.\n",
    "library(ggplot2) #for data viz\n",
    "library(readxl) #this package is not part of core tidyverse, so explicitly loaded. The files are in .xlsx format.\n",
    "library(RColorBrewer) #for enhanced Viz"
   ]
  },
  {
   "cell_type": "code",
   "execution_count": 2,
   "id": "6ab8726e",
   "metadata": {
    "execution": {
     "iopub.execute_input": "2022-04-12T15:39:51.536184Z",
     "iopub.status.busy": "2022-04-12T15:39:51.503067Z",
     "iopub.status.idle": "2022-04-12T15:39:52.119571Z",
     "shell.execute_reply": "2022-04-12T15:39:52.116958Z"
    },
    "papermill": {
     "duration": 0.704315,
     "end_time": "2022-04-12T15:39:52.119757",
     "exception": false,
     "start_time": "2022-04-12T15:39:51.415442",
     "status": "completed"
    },
    "tags": []
   },
   "outputs": [],
   "source": [
    "#Reading all the data files.\n",
    "#2018\n",
    "states_data_18 <- read_excel(\"../input/human-trafficking-in-india-2018-2020/2018_states_data.xlsx\")\n",
    "victims_18 <- read_excel(\"../input/human-trafficking-in-india-2018-2020/2018_victims_trafficked.xlsx\")\n",
    "rescued_victims_18 <- read_excel(\"../input/human-trafficking-in-india-2018-2020/2018_victims_rescued.xlsx\")\n",
    "victims_nationality_18 <- read_excel(\"../input/human-trafficking-in-india-2018-2020/2018_rescued_victims_nationality.xlsx\")\n",
    "culprit_disposal_18 <- read_excel(\"../input/human-trafficking-in-india-2018-2020/2018_culprits_disposal.xlsx\")\n",
    "cases_disposal_18 <- read_excel(\"../input/human-trafficking-in-india-2018-2020/2018_police_and_court_disposal_of_cases.xlsx\")\n",
    "purpose_18 <- read_excel(\"../input/human-trafficking-in-india-2018-2020/2018_human_trafficking_purpose.xlsx\")\n",
    "\n",
    "#2019\n",
    "states_data_19 <- read_excel(\"../input/human-trafficking-in-india-2018-2020/2019_states_data.xlsx\")\n",
    "victims_19 <- read_excel(\"../input/human-trafficking-in-india-2018-2020/2019_victims_trafficked.xlsx\")\n",
    "rescued_victims_19 <- read_excel(\"../input/human-trafficking-in-india-2018-2020/2019_victims_rescued.xlsx\")\n",
    "victims_nationality_19 <- read_excel(\"../input/human-trafficking-in-india-2018-2020/2019_victims_rescued_nationality.xlsx\")\n",
    "culprit_disposal_19 <- read_excel(\"../input/human-trafficking-in-india-2018-2020/2019_culprits_disposal.xlsx\")\n",
    "cases_disposal_19 <- read_excel(\"../input/human-trafficking-in-india-2018-2020/2019_police_and_court_disposal.xlsx\")\n",
    "purpose_19 <- read_excel(\"../input/human-trafficking-in-india-2018-2020/2019_trafficking_purpose.xlsx\")\n",
    "\n",
    "#2020\n",
    "states_data_20 <- read_excel(\"../input/human-trafficking-in-india-2018-2020/2020_states_data.xlsx\")\n",
    "victims_20 <- read_excel(\"../input/human-trafficking-in-india-2018-2020/2020_victims_trafficked.xlsx\")\n",
    "rescued_victims_20 <- read_excel(\"../input/human-trafficking-in-india-2018-2020/2020_victims_rescued.xlsx\")\n",
    "victims_nationality_20 <- read_excel(\"../input/human-trafficking-in-india-2018-2020/2020_rescued_victims_nationality.xlsx\")\n",
    "culprit_disposal_20 <- read_excel(\"../input/human-trafficking-in-india-2018-2020/2020_culprits_disposal.xlsx\")\n",
    "cases_disposal_20 <- read_excel(\"../input/human-trafficking-in-india-2018-2020/2020_case_disposal.xlsx\")\n",
    "purpose_20 <- read_excel(\"../input/human-trafficking-in-india-2018-2020/2020_trafficking_purpose.xlsx\")\n",
    "aht_units_20 <- read_excel(\"../input/human-trafficking-in-india-2018-2020/2020_number_of_AHT_Units.xlsx\")"
   ]
  },
  {
   "cell_type": "code",
   "execution_count": 3,
   "id": "ebbf1233",
   "metadata": {
    "execution": {
     "iopub.execute_input": "2022-04-12T15:39:52.294613Z",
     "iopub.status.busy": "2022-04-12T15:39:52.292443Z",
     "iopub.status.idle": "2022-04-12T15:39:52.327536Z",
     "shell.execute_reply": "2022-04-12T15:39:52.326834Z"
    },
    "papermill": {
     "duration": 0.124756,
     "end_time": "2022-04-12T15:39:52.327687",
     "exception": false,
     "start_time": "2022-04-12T15:39:52.202931",
     "status": "completed"
    },
    "tags": []
   },
   "outputs": [
    {
     "data": {
      "text/html": [
       "<table class=\"dataframe\">\n",
       "<caption>A tibble: 6 × 7</caption>\n",
       "<thead>\n",
       "\t<tr><th scope=col>S. No.</th><th scope=col>State/UT</th><th scope=col>Cases Reported</th><th scope=col>Percentage Share of State (2018)</th><th scope=col>Mid-Year Projected Population (In Lakhs)+</th><th scope=col>Rate of Cognizable Crimes (IPC)++</th><th scope=col>region type</th></tr>\n",
       "\t<tr><th scope=col>&lt;dbl&gt;</th><th scope=col>&lt;chr&gt;</th><th scope=col>&lt;dbl&gt;</th><th scope=col>&lt;dbl&gt;</th><th scope=col>&lt;dbl&gt;</th><th scope=col>&lt;dbl&gt;</th><th scope=col>&lt;chr&gt;</th></tr>\n",
       "</thead>\n",
       "<tbody>\n",
       "\t<tr><td>1</td><td>Andhra Pradesh   </td><td>240</td><td> 9.7</td><td> 520.3</td><td>0.5</td><td>state</td></tr>\n",
       "\t<tr><td>2</td><td>Arunachal Pradesh</td><td>  3</td><td> 0.1</td><td>  14.9</td><td>0.2</td><td>state</td></tr>\n",
       "\t<tr><td>3</td><td>Assam            </td><td>262</td><td>10.6</td><td> 340.4</td><td>0.8</td><td>state</td></tr>\n",
       "\t<tr><td>4</td><td>Bihar            </td><td>127</td><td> 5.2</td><td>1183.3</td><td>0.1</td><td>state</td></tr>\n",
       "\t<tr><td>5</td><td>Chhattisgarh     </td><td> 51</td><td> 2.1</td><td> 284.7</td><td>0.2</td><td>state</td></tr>\n",
       "\t<tr><td>6</td><td>Goa              </td><td> 55</td><td> 2.2</td><td>  15.3</td><td>3.6</td><td>state</td></tr>\n",
       "</tbody>\n",
       "</table>\n"
      ],
      "text/latex": [
       "A tibble: 6 × 7\n",
       "\\begin{tabular}{lllllll}\n",
       " S. No. & State/UT & Cases Reported & Percentage Share of State (2018) & Mid-Year Projected Population (In Lakhs)+ & Rate of Cognizable Crimes (IPC)++ & region type\\\\\n",
       " <dbl> & <chr> & <dbl> & <dbl> & <dbl> & <dbl> & <chr>\\\\\n",
       "\\hline\n",
       "\t 1 & Andhra Pradesh    & 240 &  9.7 &  520.3 & 0.5 & state\\\\\n",
       "\t 2 & Arunachal Pradesh &   3 &  0.1 &   14.9 & 0.2 & state\\\\\n",
       "\t 3 & Assam             & 262 & 10.6 &  340.4 & 0.8 & state\\\\\n",
       "\t 4 & Bihar             & 127 &  5.2 & 1183.3 & 0.1 & state\\\\\n",
       "\t 5 & Chhattisgarh      &  51 &  2.1 &  284.7 & 0.2 & state\\\\\n",
       "\t 6 & Goa               &  55 &  2.2 &   15.3 & 3.6 & state\\\\\n",
       "\\end{tabular}\n"
      ],
      "text/markdown": [
       "\n",
       "A tibble: 6 × 7\n",
       "\n",
       "| S. No. &lt;dbl&gt; | State/UT &lt;chr&gt; | Cases Reported &lt;dbl&gt; | Percentage Share of State (2018) &lt;dbl&gt; | Mid-Year Projected Population (In Lakhs)+ &lt;dbl&gt; | Rate of Cognizable Crimes (IPC)++ &lt;dbl&gt; | region type &lt;chr&gt; |\n",
       "|---|---|---|---|---|---|---|\n",
       "| 1 | Andhra Pradesh    | 240 |  9.7 |  520.3 | 0.5 | state |\n",
       "| 2 | Arunachal Pradesh |   3 |  0.1 |   14.9 | 0.2 | state |\n",
       "| 3 | Assam             | 262 | 10.6 |  340.4 | 0.8 | state |\n",
       "| 4 | Bihar             | 127 |  5.2 | 1183.3 | 0.1 | state |\n",
       "| 5 | Chhattisgarh      |  51 |  2.1 |  284.7 | 0.2 | state |\n",
       "| 6 | Goa               |  55 |  2.2 |   15.3 | 3.6 | state |\n",
       "\n"
      ],
      "text/plain": [
       "  S. No. State/UT          Cases Reported Percentage Share of State (2018)\n",
       "1 1      Andhra Pradesh    240             9.7                            \n",
       "2 2      Arunachal Pradesh   3             0.1                            \n",
       "3 3      Assam             262            10.6                            \n",
       "4 4      Bihar             127             5.2                            \n",
       "5 5      Chhattisgarh       51             2.1                            \n",
       "6 6      Goa                55             2.2                            \n",
       "  Mid-Year Projected Population (In Lakhs)+ Rate of Cognizable Crimes (IPC)++\n",
       "1  520.3                                    0.5                              \n",
       "2   14.9                                    0.2                              \n",
       "3  340.4                                    0.8                              \n",
       "4 1183.3                                    0.1                              \n",
       "5  284.7                                    0.2                              \n",
       "6   15.3                                    3.6                              \n",
       "  region type\n",
       "1 state      \n",
       "2 state      \n",
       "3 state      \n",
       "4 state      \n",
       "5 state      \n",
       "6 state      "
      ]
     },
     "metadata": {},
     "output_type": "display_data"
    }
   ],
   "source": [
    "head(states_data_18)"
   ]
  },
  {
   "cell_type": "markdown",
   "id": "fd0105f7",
   "metadata": {
    "papermill": {
     "duration": 0.086176,
     "end_time": "2022-04-12T15:39:52.499187",
     "exception": false,
     "start_time": "2022-04-12T15:39:52.413011",
     "status": "completed"
    },
    "tags": []
   },
   "source": [
    "### I. Data Cleaning:\n",
    "Following are the steps I took for cleaning this data.\n",
    "##### 1. Cleaned column names.\n",
    "##### 2. Checked for Missing values.\n",
    "##### 3. Checked for Duplicate rows.\n",
    "##### 4. Renamed column common in all files to one name, for uniformity.\n",
    "##### 5. Removed symbols like '+', '\\*' from cell values with numeric data.\n",
    "##### 6. Inconsistent Data Type of Columns.\n",
    "##### 6. Joining 2 dataframes into 1"
   ]
  },
  {
   "cell_type": "markdown",
   "id": "2d7f79a1",
   "metadata": {
    "papermill": {
     "duration": 0.085228,
     "end_time": "2022-04-12T15:39:52.670084",
     "exception": false,
     "start_time": "2022-04-12T15:39:52.584856",
     "status": "completed"
    },
    "tags": []
   },
   "source": [
    "#### I.1 Cleaning column names\n",
    "The following code cleans all the dataframes simultaneously. Some of the components are explained as follows:\n",
    "1. **c()**- combine function combines all the dataframe names into a vector.\n",
    "2. Inside the loop:\n",
    "    * **i**- contains name of 1st df in 1st iteration, 2nd df in 2nd iteration & so on...\n",
    "    * **assign()**- used to assign the 2nd parameter to 1st parameter.\n",
    "        * Syntax- assign(variable, value)\n",
    "        *  Here, first clean_names() is applied to the df & the result is stored in i.\n",
    "    * **clean_names()**- this function cleans all the column headers in a file, removing:\n",
    "        * white spaces, brackets and other symbols.\n",
    "        * converts everything to lowercase.\n",
    "        * formats the name of column in snake case, e.g. name_of_person.\n",
    "    * **get(i)**- \n",
    "        * takes in the name of one dataframe stored in i.\n",
    "        * returns the value present in this dataframe.\n",
    "        * clean_names(get(i))- the column headers of this df get cleaned by clean_names()."
   ]
  },
  {
   "cell_type": "code",
   "execution_count": 4,
   "id": "28de5b95",
   "metadata": {
    "execution": {
     "iopub.execute_input": "2022-04-12T15:39:52.853191Z",
     "iopub.status.busy": "2022-04-12T15:39:52.850967Z",
     "iopub.status.idle": "2022-04-12T15:39:53.180875Z",
     "shell.execute_reply": "2022-04-12T15:39:53.179155Z"
    },
    "papermill": {
     "duration": 0.421876,
     "end_time": "2022-04-12T15:39:53.181019",
     "exception": false,
     "start_time": "2022-04-12T15:39:52.759143",
     "status": "completed"
    },
    "tags": []
   },
   "outputs": [],
   "source": [
    "#cleaning the column headers of all files simultaneously.\n",
    "#All spaces, symbols, brackets, upper case is removed \n",
    "#and column headers are formatted to snake case.\n",
    "dataframe_names <- c(\"states_data_18\",\"victims_18\",\"rescued_victims_18\",\"victims_nationality_18\",\n",
    "                    \"culprit_disposal_18\",\"cases_disposal_18\",\"purpose_18\",\"states_data_19\",\"victims_19\",\"rescued_victims_19\",\"victims_nationality_19\",\n",
    "                    \"culprit_disposal_19\",\"cases_disposal_19\",\"purpose_19\",\"states_data_20\",\"victims_20\",\"rescued_victims_20\",\"victims_nationality_20\",\n",
    "                    \"culprit_disposal_20\",\"cases_disposal_20\",\"purpose_20\",\"aht_units_20\")\n",
    "for (i in dataframe_names)\n",
    "    {assign(i,janitor::clean_names(get(i)))\n",
    "    }"
   ]
  },
  {
   "cell_type": "code",
   "execution_count": 5,
   "id": "755630dc",
   "metadata": {
    "execution": {
     "iopub.execute_input": "2022-04-12T15:39:53.358905Z",
     "iopub.status.busy": "2022-04-12T15:39:53.356767Z",
     "iopub.status.idle": "2022-04-12T15:39:53.382793Z",
     "shell.execute_reply": "2022-04-12T15:39:53.381131Z"
    },
    "papermill": {
     "duration": 0.116485,
     "end_time": "2022-04-12T15:39:53.382941",
     "exception": false,
     "start_time": "2022-04-12T15:39:53.266456",
     "status": "completed"
    },
    "tags": []
   },
   "outputs": [
    {
     "data": {
      "text/html": [
       "<table class=\"dataframe\">\n",
       "<caption>A tibble: 3 × 7</caption>\n",
       "<thead>\n",
       "\t<tr><th scope=col>s_no</th><th scope=col>state_ut</th><th scope=col>cases_reported</th><th scope=col>percentage_share_of_state_2018</th><th scope=col>mid_year_projected_population_in_lakhs</th><th scope=col>rate_of_cognizable_crimes_ipc</th><th scope=col>region_type</th></tr>\n",
       "\t<tr><th scope=col>&lt;dbl&gt;</th><th scope=col>&lt;chr&gt;</th><th scope=col>&lt;dbl&gt;</th><th scope=col>&lt;dbl&gt;</th><th scope=col>&lt;dbl&gt;</th><th scope=col>&lt;dbl&gt;</th><th scope=col>&lt;chr&gt;</th></tr>\n",
       "</thead>\n",
       "<tbody>\n",
       "\t<tr><td>1</td><td>Andhra Pradesh   </td><td>240</td><td> 9.7</td><td>520.3</td><td>0.5</td><td>state</td></tr>\n",
       "\t<tr><td>2</td><td>Arunachal Pradesh</td><td>  3</td><td> 0.1</td><td> 14.9</td><td>0.2</td><td>state</td></tr>\n",
       "\t<tr><td>3</td><td>Assam            </td><td>262</td><td>10.6</td><td>340.4</td><td>0.8</td><td>state</td></tr>\n",
       "</tbody>\n",
       "</table>\n"
      ],
      "text/latex": [
       "A tibble: 3 × 7\n",
       "\\begin{tabular}{lllllll}\n",
       " s\\_no & state\\_ut & cases\\_reported & percentage\\_share\\_of\\_state\\_2018 & mid\\_year\\_projected\\_population\\_in\\_lakhs & rate\\_of\\_cognizable\\_crimes\\_ipc & region\\_type\\\\\n",
       " <dbl> & <chr> & <dbl> & <dbl> & <dbl> & <dbl> & <chr>\\\\\n",
       "\\hline\n",
       "\t 1 & Andhra Pradesh    & 240 &  9.7 & 520.3 & 0.5 & state\\\\\n",
       "\t 2 & Arunachal Pradesh &   3 &  0.1 &  14.9 & 0.2 & state\\\\\n",
       "\t 3 & Assam             & 262 & 10.6 & 340.4 & 0.8 & state\\\\\n",
       "\\end{tabular}\n"
      ],
      "text/markdown": [
       "\n",
       "A tibble: 3 × 7\n",
       "\n",
       "| s_no &lt;dbl&gt; | state_ut &lt;chr&gt; | cases_reported &lt;dbl&gt; | percentage_share_of_state_2018 &lt;dbl&gt; | mid_year_projected_population_in_lakhs &lt;dbl&gt; | rate_of_cognizable_crimes_ipc &lt;dbl&gt; | region_type &lt;chr&gt; |\n",
       "|---|---|---|---|---|---|---|\n",
       "| 1 | Andhra Pradesh    | 240 |  9.7 | 520.3 | 0.5 | state |\n",
       "| 2 | Arunachal Pradesh |   3 |  0.1 |  14.9 | 0.2 | state |\n",
       "| 3 | Assam             | 262 | 10.6 | 340.4 | 0.8 | state |\n",
       "\n"
      ],
      "text/plain": [
       "  s_no state_ut          cases_reported percentage_share_of_state_2018\n",
       "1 1    Andhra Pradesh    240             9.7                          \n",
       "2 2    Arunachal Pradesh   3             0.1                          \n",
       "3 3    Assam             262            10.6                          \n",
       "  mid_year_projected_population_in_lakhs rate_of_cognizable_crimes_ipc\n",
       "1 520.3                                  0.5                          \n",
       "2  14.9                                  0.2                          \n",
       "3 340.4                                  0.8                          \n",
       "  region_type\n",
       "1 state      \n",
       "2 state      \n",
       "3 state      "
      ]
     },
     "metadata": {},
     "output_type": "display_data"
    }
   ],
   "source": [
    "#a quick look at cleaned column headers\n",
    "head(states_data_18,3)"
   ]
  },
  {
   "cell_type": "markdown",
   "id": "2041e880",
   "metadata": {
    "papermill": {
     "duration": 0.09045,
     "end_time": "2022-04-12T15:39:53.563212",
     "exception": false,
     "start_time": "2022-04-12T15:39:53.472762",
     "status": "completed"
    },
    "tags": []
   },
   "source": [
    "#### I.2 Missing Values & Duplicate Rows\n",
    "\n",
    "Following code creates a dataframe with 3 columns:  \n",
    "* **column 1- name of sheet**\n",
    "* **column 2- number of missing values in each sheet**\n",
    "* **column 3- number of duplicate rows in each sheet**  \n",
    "I tried analysing NA values and duplicate rows in this manner because individual analysis of 22 files would have been time-consuming.  \n",
    "And this table highlights the sheets containing such values.\n",
    "\n",
    "I wanted to see how many missing values & duplicated rows are present in each of the 22 files. So, instead of chekcing them one by one, I did the following:\n",
    "1. Created an empty dataframe with 3 columns- sheet name, total_na_values, total_duplicated_rows.\n",
    "    1. sheet_name- this column contains names of all 22 files.\n",
    "    2. total_na_values- contains total number of missing values in each file.\n",
    "    3. total_duplicated_rows- contains total number of duplicate rows found in each file.\n",
    "2. Ran a loop over **`dataframes_names`** which contains names of all sheets.\n",
    "    1. each iteration works on one file and adds a row to the df_summary dataframe.\n",
    "    2. **rbind()**- appends rows to a dataframe.\n",
    "3. **NOTE:**\n",
    "    1. `colnames(df_summary) <- columns` sets the name of the columns to the ones specified in `columns`. \n",
    "    2. ***Why have I written it at the end of this code snippet and not while creating the empty dataframe?***  \n",
    "        That's because when an empty dataframe is passed to rbind function (in the 1st iteration), rbind overides the empty df and stores the results which changes the column names. So, when I was creating this df, the column names were constantly updating to something else. Hence, i wrote this line of code at the end in order to get the column headers as you are able to see now.\n",
    "    "
   ]
  },
  {
   "cell_type": "code",
   "execution_count": 6,
   "id": "983ab7d6",
   "metadata": {
    "execution": {
     "iopub.execute_input": "2022-04-12T15:39:53.746779Z",
     "iopub.status.busy": "2022-04-12T15:39:53.744476Z",
     "iopub.status.idle": "2022-04-12T15:39:53.784408Z",
     "shell.execute_reply": "2022-04-12T15:39:53.782664Z"
    },
    "papermill": {
     "duration": 0.13279,
     "end_time": "2022-04-12T15:39:53.784617",
     "exception": false,
     "start_time": "2022-04-12T15:39:53.651827",
     "status": "completed"
    },
    "tags": []
   },
   "outputs": [],
   "source": [
    "columns <- c(\"sheet_name\",\"total_na_values\",\"total_duplicate_values\")\n",
    "df_summary <- data.frame(matrix(nrow=0,ncol=length(columns)))#creating an empty dataframe.\n",
    "for (i in dataframe_names){\n",
    "    new_row <- c(i,sum(is.na(get(i))),sum(duplicated(get(i))))\n",
    "    df_summary <- df_summary %>% rbind(new_row)\n",
    "}\n",
    "colnames(df_summary) <- columns"
   ]
  },
  {
   "cell_type": "code",
   "execution_count": 7,
   "id": "aca56eb2",
   "metadata": {
    "execution": {
     "iopub.execute_input": "2022-04-12T15:39:53.969027Z",
     "iopub.status.busy": "2022-04-12T15:39:53.967177Z",
     "iopub.status.idle": "2022-04-12T15:39:53.999588Z",
     "shell.execute_reply": "2022-04-12T15:39:53.997633Z"
    },
    "papermill": {
     "duration": 0.125338,
     "end_time": "2022-04-12T15:39:53.999752",
     "exception": false,
     "start_time": "2022-04-12T15:39:53.874414",
     "status": "completed"
    },
    "tags": []
   },
   "outputs": [
    {
     "data": {
      "text/html": [
       "<table class=\"dataframe\">\n",
       "<caption>A data.frame: 22 × 3</caption>\n",
       "<thead>\n",
       "\t<tr><th scope=col>sheet_name</th><th scope=col>total_na_values</th><th scope=col>total_duplicate_values</th></tr>\n",
       "\t<tr><th scope=col>&lt;chr&gt;</th><th scope=col>&lt;chr&gt;</th><th scope=col>&lt;chr&gt;</th></tr>\n",
       "</thead>\n",
       "<tbody>\n",
       "\t<tr><td>states_data_18        </td><td>0 </td><td>0</td></tr>\n",
       "\t<tr><td>victims_18            </td><td>0 </td><td>0</td></tr>\n",
       "\t<tr><td>rescued_victims_18    </td><td>0 </td><td>0</td></tr>\n",
       "\t<tr><td>victims_nationality_18</td><td>0 </td><td>0</td></tr>\n",
       "\t<tr><td>culprit_disposal_18   </td><td>0 </td><td>0</td></tr>\n",
       "\t<tr><td>cases_disposal_18     </td><td>13</td><td>0</td></tr>\n",
       "\t<tr><td>purpose_18            </td><td>0 </td><td>0</td></tr>\n",
       "\t<tr><td>states_data_19        </td><td>0 </td><td>0</td></tr>\n",
       "\t<tr><td>victims_19            </td><td>0 </td><td>0</td></tr>\n",
       "\t<tr><td>rescued_victims_19    </td><td>0 </td><td>0</td></tr>\n",
       "\t<tr><td>victims_nationality_19</td><td>0 </td><td>0</td></tr>\n",
       "\t<tr><td>culprit_disposal_19   </td><td>0 </td><td>0</td></tr>\n",
       "\t<tr><td>cases_disposal_19     </td><td>24</td><td>0</td></tr>\n",
       "\t<tr><td>purpose_19            </td><td>0 </td><td>0</td></tr>\n",
       "\t<tr><td>states_data_20        </td><td>10</td><td>0</td></tr>\n",
       "\t<tr><td>victims_20            </td><td>0 </td><td>0</td></tr>\n",
       "\t<tr><td>rescued_victims_20    </td><td>0 </td><td>0</td></tr>\n",
       "\t<tr><td>victims_nationality_20</td><td>0 </td><td>0</td></tr>\n",
       "\t<tr><td>culprit_disposal_20   </td><td>0 </td><td>0</td></tr>\n",
       "\t<tr><td>cases_disposal_20     </td><td>29</td><td>0</td></tr>\n",
       "\t<tr><td>purpose_20            </td><td>0 </td><td>0</td></tr>\n",
       "\t<tr><td>aht_units_20          </td><td>0 </td><td>0</td></tr>\n",
       "</tbody>\n",
       "</table>\n"
      ],
      "text/latex": [
       "A data.frame: 22 × 3\n",
       "\\begin{tabular}{lll}\n",
       " sheet\\_name & total\\_na\\_values & total\\_duplicate\\_values\\\\\n",
       " <chr> & <chr> & <chr>\\\\\n",
       "\\hline\n",
       "\t states\\_data\\_18         & 0  & 0\\\\\n",
       "\t victims\\_18             & 0  & 0\\\\\n",
       "\t rescued\\_victims\\_18     & 0  & 0\\\\\n",
       "\t victims\\_nationality\\_18 & 0  & 0\\\\\n",
       "\t culprit\\_disposal\\_18    & 0  & 0\\\\\n",
       "\t cases\\_disposal\\_18      & 13 & 0\\\\\n",
       "\t purpose\\_18             & 0  & 0\\\\\n",
       "\t states\\_data\\_19         & 0  & 0\\\\\n",
       "\t victims\\_19             & 0  & 0\\\\\n",
       "\t rescued\\_victims\\_19     & 0  & 0\\\\\n",
       "\t victims\\_nationality\\_19 & 0  & 0\\\\\n",
       "\t culprit\\_disposal\\_19    & 0  & 0\\\\\n",
       "\t cases\\_disposal\\_19      & 24 & 0\\\\\n",
       "\t purpose\\_19             & 0  & 0\\\\\n",
       "\t states\\_data\\_20         & 10 & 0\\\\\n",
       "\t victims\\_20             & 0  & 0\\\\\n",
       "\t rescued\\_victims\\_20     & 0  & 0\\\\\n",
       "\t victims\\_nationality\\_20 & 0  & 0\\\\\n",
       "\t culprit\\_disposal\\_20    & 0  & 0\\\\\n",
       "\t cases\\_disposal\\_20      & 29 & 0\\\\\n",
       "\t purpose\\_20             & 0  & 0\\\\\n",
       "\t aht\\_units\\_20           & 0  & 0\\\\\n",
       "\\end{tabular}\n"
      ],
      "text/markdown": [
       "\n",
       "A data.frame: 22 × 3\n",
       "\n",
       "| sheet_name &lt;chr&gt; | total_na_values &lt;chr&gt; | total_duplicate_values &lt;chr&gt; |\n",
       "|---|---|---|\n",
       "| states_data_18         | 0  | 0 |\n",
       "| victims_18             | 0  | 0 |\n",
       "| rescued_victims_18     | 0  | 0 |\n",
       "| victims_nationality_18 | 0  | 0 |\n",
       "| culprit_disposal_18    | 0  | 0 |\n",
       "| cases_disposal_18      | 13 | 0 |\n",
       "| purpose_18             | 0  | 0 |\n",
       "| states_data_19         | 0  | 0 |\n",
       "| victims_19             | 0  | 0 |\n",
       "| rescued_victims_19     | 0  | 0 |\n",
       "| victims_nationality_19 | 0  | 0 |\n",
       "| culprit_disposal_19    | 0  | 0 |\n",
       "| cases_disposal_19      | 24 | 0 |\n",
       "| purpose_19             | 0  | 0 |\n",
       "| states_data_20         | 10 | 0 |\n",
       "| victims_20             | 0  | 0 |\n",
       "| rescued_victims_20     | 0  | 0 |\n",
       "| victims_nationality_20 | 0  | 0 |\n",
       "| culprit_disposal_20    | 0  | 0 |\n",
       "| cases_disposal_20      | 29 | 0 |\n",
       "| purpose_20             | 0  | 0 |\n",
       "| aht_units_20           | 0  | 0 |\n",
       "\n"
      ],
      "text/plain": [
       "   sheet_name             total_na_values total_duplicate_values\n",
       "1  states_data_18         0               0                     \n",
       "2  victims_18             0               0                     \n",
       "3  rescued_victims_18     0               0                     \n",
       "4  victims_nationality_18 0               0                     \n",
       "5  culprit_disposal_18    0               0                     \n",
       "6  cases_disposal_18      13              0                     \n",
       "7  purpose_18             0               0                     \n",
       "8  states_data_19         0               0                     \n",
       "9  victims_19             0               0                     \n",
       "10 rescued_victims_19     0               0                     \n",
       "11 victims_nationality_19 0               0                     \n",
       "12 culprit_disposal_19    0               0                     \n",
       "13 cases_disposal_19      24              0                     \n",
       "14 purpose_19             0               0                     \n",
       "15 states_data_20         10              0                     \n",
       "16 victims_20             0               0                     \n",
       "17 rescued_victims_20     0               0                     \n",
       "18 victims_nationality_20 0               0                     \n",
       "19 culprit_disposal_20    0               0                     \n",
       "20 cases_disposal_20      29              0                     \n",
       "21 purpose_20             0               0                     \n",
       "22 aht_units_20           0               0                     "
      ]
     },
     "metadata": {},
     "output_type": "display_data"
    }
   ],
   "source": [
    "df_summary"
   ]
  },
  {
   "cell_type": "markdown",
   "id": "36b11e6f",
   "metadata": {
    "papermill": {
     "duration": 0.091505,
     "end_time": "2022-04-12T15:39:54.183648",
     "exception": false,
     "start_time": "2022-04-12T15:39:54.092143",
     "status": "completed"
    },
    "tags": []
   },
   "source": [
    "From the summary table, it is clear that missing values are present in 4 files:\n",
    "1. cases_disposal_18\n",
    "2. cases_disposal_19\n",
    "3. cases_disposal_20  \n",
    "4. states_data_20  \n",
    "And no duplicate rows were found in any of the files.\n"
   ]
  },
  {
   "cell_type": "markdown",
   "id": "9f86b26b",
   "metadata": {
    "papermill": {
     "duration": 0.09103,
     "end_time": "2022-04-12T15:39:54.367154",
     "exception": false,
     "start_time": "2022-04-12T15:39:54.276124",
     "status": "completed"
    },
    "tags": []
   },
   "source": [
    "##### Observations about the Missing Values:\n",
    "1. **case_disposal files-** Data is missing in columns **`chargesheeted_rate`**, **`cases_conviction_rate`**.  \n",
    "    * **chargesheeted rate=** (cases_chargesheeted/(cases_chargesheeted + final report))* 100.  This column depends on chargesheeted columns. So, if no. of cases chargesheeted is 0, the chargesheet rate becomes NA.\n",
    "    If the rate is NA, it means that:  \n",
    "        * either no trafficking cases were reported OR\n",
    "        * no chargesheet was filed for reported cases.\n",
    "    * **case conviction rate=** (cases convicted by court/cases with complete trials)* 100. If cases with complete trials is 0 or cases convicted is 0, this value is NA.  \n",
    "    \n",
    "2. **states_data_20 file**-  \n",
    "    * The column **`chargesheeting rate`** contains most of the NA values. I won't be using this column & it is not present in the **states_data** file of 2018, 2019.\n",
    "    * NA values are also present in the Ladhak row. \n",
    "        * That's because the earlier state of Jammu and Kashmir was converted to 2 Union Territories: **Jammu & Kashmir** & **Ladhak**. \n",
    "        * So, in this file as per desciption on website data, the combined data of Jammu & Kashmir and Ladhak are present in the Jammu & Kashmir row.  \n",
    "        Hence, these NA values can be ignored."
   ]
  },
  {
   "cell_type": "markdown",
   "id": "343e3df3",
   "metadata": {
    "papermill": {
     "duration": 0.091223,
     "end_time": "2022-04-12T15:39:54.549537",
     "exception": false,
     "start_time": "2022-04-12T15:39:54.458314",
     "status": "completed"
    },
    "tags": []
   },
   "source": [
    "##### Removing some columns\n",
    "The following code removes: \n",
    "* **`s_no`** column from **states_data_18** file. \n",
    "* **`chargesheeting_rate`** column from **states_data_20** file.  \n",
    "\n",
    "These columns are not required in this analysis and no other files for other years have these columns."
   ]
  },
  {
   "cell_type": "code",
   "execution_count": 8,
   "id": "42a90c3e",
   "metadata": {
    "execution": {
     "iopub.execute_input": "2022-04-12T15:39:54.739022Z",
     "iopub.status.busy": "2022-04-12T15:39:54.737322Z",
     "iopub.status.idle": "2022-04-12T15:39:54.774676Z",
     "shell.execute_reply": "2022-04-12T15:39:54.773120Z"
    },
    "papermill": {
     "duration": 0.132957,
     "end_time": "2022-04-12T15:39:54.774840",
     "exception": false,
     "start_time": "2022-04-12T15:39:54.641883",
     "status": "completed"
    },
    "tags": []
   },
   "outputs": [],
   "source": [
    "#removing the s_no column & chargesheeting_rate from states_data_18 to bring uniformity. \n",
    "#None of the other files have this col.\n",
    "states_data_18 <- states_data_18 %>% select(-s_no)\n",
    "#removing chargesheeting_rate column from states_data_20 file.\n",
    "states_data_20 <- states_data_20 %>% select(-chargesheeting_rate)"
   ]
  },
  {
   "cell_type": "markdown",
   "id": "718729ad",
   "metadata": {
    "papermill": {
     "duration": 0.091699,
     "end_time": "2022-04-12T15:39:54.957837",
     "exception": false,
     "start_time": "2022-04-12T15:39:54.866138",
     "status": "completed"
    },
    "tags": []
   },
   "source": [
    "#### I.3 Renaming columns common to all file, for uniformity.\n",
    "In some files, 1st column is **`states`** and other files have 1st column as **`states_ut`**.  \n",
    "This column gives the names of all states and union territories in India.  \n",
    "Hence, the following code renames this column of all the files as **`states_ut`** to bring uniformity."
   ]
  },
  {
   "cell_type": "code",
   "execution_count": 9,
   "id": "9393b229",
   "metadata": {
    "execution": {
     "iopub.execute_input": "2022-04-12T15:39:55.146461Z",
     "iopub.status.busy": "2022-04-12T15:39:55.144674Z",
     "iopub.status.idle": "2022-04-12T15:39:55.203683Z",
     "shell.execute_reply": "2022-04-12T15:39:55.202299Z"
    },
    "papermill": {
     "duration": 0.155048,
     "end_time": "2022-04-12T15:39:55.203831",
     "exception": false,
     "start_time": "2022-04-12T15:39:55.048783",
     "status": "completed"
    },
    "tags": []
   },
   "outputs": [],
   "source": [
    "#renaming the column names of all 22 files to bring uniformity\n",
    "for (i in dataframe_names) {\n",
    "    assign(i,rename(get(i),states_ut=colnames(get(i))[1]))\n",
    "}"
   ]
  },
  {
   "cell_type": "markdown",
   "id": "13a422f9",
   "metadata": {
    "papermill": {
     "duration": 0.091063,
     "end_time": "2022-04-12T15:39:55.386220",
     "exception": false,
     "start_time": "2022-04-12T15:39:55.295157",
     "status": "completed"
    },
    "tags": []
   },
   "source": [
    "#### 3. Inconsistent Data Type of Columns\n",
    "\n",
    "I checked the data type of columns in each file using **str()** and **glimpse()**.  \n",
    "And the following issues were observed:  \n",
    "1. **states_data_20**- 2 columns,`total_cases_2018`, `total_cases_2019` are character type instead of numeric.\n",
    "2. **victims_nationality_18**- `male`,`female`,`total_rescued` are character type instead of numeric."
   ]
  },
  {
   "cell_type": "code",
   "execution_count": 10,
   "id": "bbec92ce",
   "metadata": {
    "execution": {
     "iopub.execute_input": "2022-04-12T15:39:55.574815Z",
     "iopub.status.busy": "2022-04-12T15:39:55.572879Z",
     "iopub.status.idle": "2022-04-12T15:39:55.619398Z",
     "shell.execute_reply": "2022-04-12T15:39:55.617896Z"
    },
    "papermill": {
     "duration": 0.14229,
     "end_time": "2022-04-12T15:39:55.619569",
     "exception": false,
     "start_time": "2022-04-12T15:39:55.477279",
     "status": "completed"
    },
    "tags": []
   },
   "outputs": [
    {
     "name": "stdout",
     "output_type": "stream",
     "text": [
      "tibble [36 × 7] (S3: tbl_df/tbl/data.frame)\n",
      " $ states_ut                             : chr [1:36] \"Andhra Pradesh\" \"Arunachal Pradesh\" \"Assam\" \"Bihar\" ...\n",
      " $ total_cases_2018                      : chr [1:36] \"240\" \"3\" \"308\" \"127\" ...\n",
      " $ total_cases_2019                      : chr [1:36] \"245\" \"0\" \"201\" \"106\" ...\n",
      " $ total_cases_2020                      : num [1:36] 171 2 124 75 38 17 13 14 4 140 ...\n",
      " $ mid_year_projected_population_in_lakhs: num [1:36] 526 15.2 347.9 1219 292.4 ...\n",
      " $ rate_of_cognizable_crimes_ipc         : num [1:36] 0.3251 0.1314 0.3564 0.0615 0.13 ...\n",
      " $ region_type                           : chr [1:36] \"state\" \"state\" \"state\" \"state\" ...\n",
      "tibble [144 × 6] (S3: tbl_df/tbl/data.frame)\n",
      " $ states_ut            : chr [1:144] \"Andhra Pradesh\" \"Arunachal Pradesh\" \"Assam\" \"Bihar\" ...\n",
      " $ male                 : chr [1:144] \"1\" \"4\" \"29\" \"466\" ...\n",
      " $ female               : chr [1:144] \"452\" \"0\" \"237\" \"80\" ...\n",
      " $ total_victims_rescued: chr [1:144] \"453\" \"4\" \"266\" \"546\" ...\n",
      " $ nationality          : chr [1:144] \"India\" \"India\" \"India\" \"India\" ...\n",
      " $ region_type          : chr [1:144] \"state\" \"state\" \"state\" \"state\" ...\n"
     ]
    }
   ],
   "source": [
    "str(states_data_20)\n",
    "str(victims_nationality_18)"
   ]
  },
  {
   "cell_type": "markdown",
   "id": "0026be28",
   "metadata": {
    "papermill": {
     "duration": 0.094072,
     "end_time": "2022-04-12T15:39:55.806397",
     "exception": false,
     "start_time": "2022-04-12T15:39:55.712325",
     "status": "completed"
    },
    "tags": []
   },
   "source": [
    "Few other observations in the data:\n",
    "1. In some dataframes, the **`state_ut`** column contains '@', '+','\\*' and other such symbols alongside the names of states and Union Territories. These symbols have to be omitted. e.g. **\"Bihar\\@\"**\n",
    "2. Some columns with numeric data contain symbols like '+','\\*','++' etc. These symbols need to be omitted. e.g. **\"24\\+\"**, **\"7\\*\"**\n",
    "3. **An Important Observation:**\n",
    "    * In the dataframe `states_data_20`, 2 columns`total_cases_2018`, `total_cases_2019` are character type instead of numeric. \n",
    "    * And some values in these columns have a '+' sign, for e.g. total_cases_2019 for one state is \"54+\".\n",
    "    * So, before converting these cols from character to numeric type, these symbols need to be removed. Otherwise the `as.numeric()` function will convert these cell values to NA. \n",
    "    * ***Hence, I have first removed all such symbols in the files and then converted the data type of inconsistent columns to numeric***."
   ]
  },
  {
   "cell_type": "code",
   "execution_count": 11,
   "id": "bffa3e30",
   "metadata": {
    "execution": {
     "iopub.execute_input": "2022-04-12T15:39:56.018103Z",
     "iopub.status.busy": "2022-04-12T15:39:56.016397Z",
     "iopub.status.idle": "2022-04-12T15:39:56.045629Z",
     "shell.execute_reply": "2022-04-12T15:39:56.044022Z"
    },
    "papermill": {
     "duration": 0.144388,
     "end_time": "2022-04-12T15:39:56.045802",
     "exception": false,
     "start_time": "2022-04-12T15:39:55.901414",
     "status": "completed"
    },
    "tags": []
   },
   "outputs": [],
   "source": [
    "#removing symbols from states_data_20 dataframe\n",
    "states_data_20 <- states_data_20 %>%\n",
    "                    mutate(states_ut = gsub(\"@\",\"\",states_ut),\n",
    "                          total_cases_2018 = gsub(\"\\\\+\",\"\",total_cases_2018),\n",
    "                          total_cases_2019 = gsub(\"\\\\+\",\"\",total_cases_2019))\n",
    "\n"
   ]
  },
  {
   "cell_type": "code",
   "execution_count": 12,
   "id": "130e6d54",
   "metadata": {
    "execution": {
     "iopub.execute_input": "2022-04-12T15:39:56.240283Z",
     "iopub.status.busy": "2022-04-12T15:39:56.238441Z",
     "iopub.status.idle": "2022-04-12T15:39:56.257346Z",
     "shell.execute_reply": "2022-04-12T15:39:56.255941Z"
    },
    "papermill": {
     "duration": 0.117369,
     "end_time": "2022-04-12T15:39:56.257553",
     "exception": false,
     "start_time": "2022-04-12T15:39:56.140184",
     "status": "completed"
    },
    "tags": []
   },
   "outputs": [],
   "source": [
    "#changing the data type of inconsistent columns from character to numeric\n",
    "states_data_20 <- states_data_20 %>%\n",
    "                    mutate(total_cases_2018 = as.numeric(total_cases_2018),\n",
    "                           total_cases_2019 = as.numeric(total_cases_2019))\n"
   ]
  },
  {
   "cell_type": "code",
   "execution_count": 13,
   "id": "92e0858c",
   "metadata": {
    "execution": {
     "iopub.execute_input": "2022-04-12T15:39:56.458361Z",
     "iopub.status.busy": "2022-04-12T15:39:56.456715Z",
     "iopub.status.idle": "2022-04-12T15:39:56.485086Z",
     "shell.execute_reply": "2022-04-12T15:39:56.483665Z"
    },
    "papermill": {
     "duration": 0.126058,
     "end_time": "2022-04-12T15:39:56.485242",
     "exception": false,
     "start_time": "2022-04-12T15:39:56.359184",
     "status": "completed"
    },
    "tags": []
   },
   "outputs": [
    {
     "name": "stderr",
     "output_type": "stream",
     "text": [
      "Warning message in mask$eval_all_mutate(quo):\n",
      "“NAs introduced by coercion”\n",
      "Warning message in mask$eval_all_mutate(quo):\n",
      "“NAs introduced by coercion”\n",
      "Warning message in mask$eval_all_mutate(quo):\n",
      "“NAs introduced by coercion”\n"
     ]
    }
   ],
   "source": [
    "victims_nationality_18 <- victims_nationality_18 %>%\n",
    "                    mutate(male = as.numeric(male),\n",
    "                          female = as.numeric(female),\n",
    "                          total_victims_rescued = as.numeric(total_victims_rescued))"
   ]
  },
  {
   "cell_type": "markdown",
   "id": "cd88fd16",
   "metadata": {
    "papermill": {
     "duration": 0.099037,
     "end_time": "2022-04-12T15:39:56.693072",
     "exception": false,
     "start_time": "2022-04-12T15:39:56.594035",
     "status": "completed"
    },
    "tags": []
   },
   "source": [
    "#### II. Analysis"
   ]
  },
  {
   "cell_type": "code",
   "execution_count": 14,
   "id": "63af3d1b",
   "metadata": {
    "execution": {
     "iopub.execute_input": "2022-04-12T15:39:56.896262Z",
     "iopub.status.busy": "2022-04-12T15:39:56.894459Z",
     "iopub.status.idle": "2022-04-12T15:39:56.919860Z",
     "shell.execute_reply": "2022-04-12T15:39:56.918152Z"
    },
    "papermill": {
     "duration": 0.128153,
     "end_time": "2022-04-12T15:39:56.920022",
     "exception": false,
     "start_time": "2022-04-12T15:39:56.791869",
     "status": "completed"
    },
    "tags": []
   },
   "outputs": [
    {
     "data": {
      "text/html": [
       "<table class=\"dataframe\">\n",
       "<caption>A tibble: 6 × 6</caption>\n",
       "<thead>\n",
       "\t<tr><th scope=col>states_ut</th><th scope=col>cases_reported</th><th scope=col>percentage_share_of_state_2018</th><th scope=col>mid_year_projected_population_in_lakhs</th><th scope=col>rate_of_cognizable_crimes_ipc</th><th scope=col>region_type</th></tr>\n",
       "\t<tr><th scope=col>&lt;chr&gt;</th><th scope=col>&lt;dbl&gt;</th><th scope=col>&lt;dbl&gt;</th><th scope=col>&lt;dbl&gt;</th><th scope=col>&lt;dbl&gt;</th><th scope=col>&lt;chr&gt;</th></tr>\n",
       "</thead>\n",
       "<tbody>\n",
       "\t<tr><td>Andhra Pradesh   </td><td>240</td><td> 9.7</td><td> 520.3</td><td>0.5</td><td>state</td></tr>\n",
       "\t<tr><td>Arunachal Pradesh</td><td>  3</td><td> 0.1</td><td>  14.9</td><td>0.2</td><td>state</td></tr>\n",
       "\t<tr><td>Assam            </td><td>262</td><td>10.6</td><td> 340.4</td><td>0.8</td><td>state</td></tr>\n",
       "\t<tr><td>Bihar            </td><td>127</td><td> 5.2</td><td>1183.3</td><td>0.1</td><td>state</td></tr>\n",
       "\t<tr><td>Chhattisgarh     </td><td> 51</td><td> 2.1</td><td> 284.7</td><td>0.2</td><td>state</td></tr>\n",
       "\t<tr><td>Goa              </td><td> 55</td><td> 2.2</td><td>  15.3</td><td>3.6</td><td>state</td></tr>\n",
       "</tbody>\n",
       "</table>\n"
      ],
      "text/latex": [
       "A tibble: 6 × 6\n",
       "\\begin{tabular}{llllll}\n",
       " states\\_ut & cases\\_reported & percentage\\_share\\_of\\_state\\_2018 & mid\\_year\\_projected\\_population\\_in\\_lakhs & rate\\_of\\_cognizable\\_crimes\\_ipc & region\\_type\\\\\n",
       " <chr> & <dbl> & <dbl> & <dbl> & <dbl> & <chr>\\\\\n",
       "\\hline\n",
       "\t Andhra Pradesh    & 240 &  9.7 &  520.3 & 0.5 & state\\\\\n",
       "\t Arunachal Pradesh &   3 &  0.1 &   14.9 & 0.2 & state\\\\\n",
       "\t Assam             & 262 & 10.6 &  340.4 & 0.8 & state\\\\\n",
       "\t Bihar             & 127 &  5.2 & 1183.3 & 0.1 & state\\\\\n",
       "\t Chhattisgarh      &  51 &  2.1 &  284.7 & 0.2 & state\\\\\n",
       "\t Goa               &  55 &  2.2 &   15.3 & 3.6 & state\\\\\n",
       "\\end{tabular}\n"
      ],
      "text/markdown": [
       "\n",
       "A tibble: 6 × 6\n",
       "\n",
       "| states_ut &lt;chr&gt; | cases_reported &lt;dbl&gt; | percentage_share_of_state_2018 &lt;dbl&gt; | mid_year_projected_population_in_lakhs &lt;dbl&gt; | rate_of_cognizable_crimes_ipc &lt;dbl&gt; | region_type &lt;chr&gt; |\n",
       "|---|---|---|---|---|---|\n",
       "| Andhra Pradesh    | 240 |  9.7 |  520.3 | 0.5 | state |\n",
       "| Arunachal Pradesh |   3 |  0.1 |   14.9 | 0.2 | state |\n",
       "| Assam             | 262 | 10.6 |  340.4 | 0.8 | state |\n",
       "| Bihar             | 127 |  5.2 | 1183.3 | 0.1 | state |\n",
       "| Chhattisgarh      |  51 |  2.1 |  284.7 | 0.2 | state |\n",
       "| Goa               |  55 |  2.2 |   15.3 | 3.6 | state |\n",
       "\n"
      ],
      "text/plain": [
       "  states_ut         cases_reported percentage_share_of_state_2018\n",
       "1 Andhra Pradesh    240             9.7                          \n",
       "2 Arunachal Pradesh   3             0.1                          \n",
       "3 Assam             262            10.6                          \n",
       "4 Bihar             127             5.2                          \n",
       "5 Chhattisgarh       51             2.1                          \n",
       "6 Goa                55             2.2                          \n",
       "  mid_year_projected_population_in_lakhs rate_of_cognizable_crimes_ipc\n",
       "1  520.3                                 0.5                          \n",
       "2   14.9                                 0.2                          \n",
       "3  340.4                                 0.8                          \n",
       "4 1183.3                                 0.1                          \n",
       "5  284.7                                 0.2                          \n",
       "6   15.3                                 3.6                          \n",
       "  region_type\n",
       "1 state      \n",
       "2 state      \n",
       "3 state      \n",
       "4 state      \n",
       "5 state      \n",
       "6 state      "
      ]
     },
     "metadata": {},
     "output_type": "display_data"
    }
   ],
   "source": [
    "head(states_data_18)"
   ]
  },
  {
   "cell_type": "markdown",
   "id": "3488833c",
   "metadata": {
    "papermill": {
     "duration": 0.100806,
     "end_time": "2022-04-12T15:39:57.124770",
     "exception": false,
     "start_time": "2022-04-12T15:39:57.023964",
     "status": "completed"
    },
    "tags": []
   },
   "source": [
    "##### Setting the Plot Size in Kaggle:\n",
    "* The plot size in Kaggle messes up sometimes, especially while displaying multiple plots in 1 frame. (e.g. when using **`~facet_wrap()`** in R).  \n",
    "* So, the following function takes 2 arguments as plot height and plot width and sets the plot size as per user's requirements.  \n",
    "* It will be called before every visualization."
   ]
  },
  {
   "cell_type": "code",
   "execution_count": 15,
   "id": "850a2424",
   "metadata": {
    "execution": {
     "iopub.execute_input": "2022-04-12T15:39:57.330984Z",
     "iopub.status.busy": "2022-04-12T15:39:57.329950Z",
     "iopub.status.idle": "2022-04-12T15:39:57.343873Z",
     "shell.execute_reply": "2022-04-12T15:39:57.342000Z"
    },
    "papermill": {
     "duration": 0.120188,
     "end_time": "2022-04-12T15:39:57.344034",
     "exception": false,
     "start_time": "2022-04-12T15:39:57.223846",
     "status": "completed"
    },
    "tags": []
   },
   "outputs": [],
   "source": [
    "kaggle_plotsize <- function(width, height) {\n",
    "                    options(repr.plot.width = width, repr.plot.height = height)\n",
    "                    }"
   ]
  },
  {
   "cell_type": "markdown",
   "id": "1f74171b",
   "metadata": {
    "papermill": {
     "duration": 0.099224,
     "end_time": "2022-04-12T15:39:57.542607",
     "exception": false,
     "start_time": "2022-04-12T15:39:57.443383",
     "status": "completed"
    },
    "tags": []
   },
   "source": [
    "#### Q1. What was the total number of trafficking cases reported in each Indian state in 2018?"
   ]
  },
  {
   "cell_type": "code",
   "execution_count": 16,
   "id": "121c3e9b",
   "metadata": {
    "execution": {
     "iopub.execute_input": "2022-04-12T15:39:57.749402Z",
     "iopub.status.busy": "2022-04-12T15:39:57.747152Z",
     "iopub.status.idle": "2022-04-12T15:39:58.361396Z",
     "shell.execute_reply": "2022-04-12T15:39:58.360728Z"
    },
    "papermill": {
     "duration": 0.719788,
     "end_time": "2022-04-12T15:39:58.361576",
     "exception": false,
     "start_time": "2022-04-12T15:39:57.641788",
     "status": "completed"
    },
    "tags": []
   },
   "outputs": [
    {
     "data": {
      "image/png": "[encoded data removed]"
     },
     "metadata": {
      "image/png": {
       "height": 480,
       "width": 600
      }
     },
     "output_type": "display_data"
    }
   ],
   "source": [
    "#number of cases reported per Indian State\n",
    "kaggle_plotsize(10,8)\n",
    "states_data_18 %>% \n",
    "filter(region_type==\"state\") %>%\n",
    "ggplot(aes(x=reorder(states_ut,cases_reported),y=cases_reported,fill=states_ut)) +\n",
    "geom_bar(stat=\"identity\",width=0.5,color=\"black\",alpha=0.4) +\n",
    "geom_text(aes(label=cases_reported),color=\"black\",stat=\"identity\",hjust=-0.4,fontface=\"bold\") +\n",
    "theme_classic() +\n",
    "theme(axis.text = element_text(face=\"bold\",size=10),legend.position=\"none\",\n",
    "     plot.title=element_text(face=\"bold\",hjust=0.5)) +\n",
    "labs(x=\"total cases reported\", y=\"Indian states\",\n",
    "     title=\"Total Number of Human Trafficking Cases Reported per State- 2018\") +\n",
    "coord_flip()"
   ]
  },
  {
   "cell_type": "code",
   "execution_count": 17,
   "id": "fbfa58dd",
   "metadata": {
    "execution": {
     "iopub.execute_input": "2022-04-12T15:39:58.578100Z",
     "iopub.status.busy": "2022-04-12T15:39:58.575790Z",
     "iopub.status.idle": "2022-04-12T15:39:58.892778Z",
     "shell.execute_reply": "2022-04-12T15:39:58.891725Z"
    },
    "papermill": {
     "duration": 0.426578,
     "end_time": "2022-04-12T15:39:58.892927",
     "exception": false,
     "start_time": "2022-04-12T15:39:58.466349",
     "status": "completed"
    },
    "tags": []
   },
   "outputs": [
    {
     "data": {
      "image/png": "[encoded data removed]"
     },
     "metadata": {
      "image/png": {
       "height": 360,
       "width": 600
      }
     },
     "output_type": "display_data"
    }
   ],
   "source": [
    "#total cases reported per Union Territory in 2018\n",
    "kaggle_plotsize(10,6)\n",
    "states_data_18 %>% \n",
    "filter(region_type==\"union territory\") %>%\n",
    "ggplot(aes(x=reorder(states_ut,cases_reported),y=cases_reported,fill=states_ut)) +\n",
    "geom_bar(stat=\"identity\",width=0.4,color=\"black\",alpha=0.4) +\n",
    "geom_text(aes(label=cases_reported),color=\"black\",stat=\"identity\",vjust=-0.5,fontface=\"bold\") +\n",
    "theme_classic() +\n",
    "theme(axis.text = element_text(face=\"bold\",size=10),legend.position=\"none\",\n",
    "     plot.title=element_text(face=\"bold\",hjust=0.5),\n",
    "     axis.title=element_text(face=\"bold\")) +\n",
    "labs(x=\"Union Territories\", y=\"total cases reported\",\n",
    "     title=\"Total Number of Human Trafficking Cases Reported per UT- 2018\")"
   ]
  },
  {
   "cell_type": "code",
   "execution_count": null,
   "id": "c0a6092a",
   "metadata": {
    "papermill": {
     "duration": 0.109431,
     "end_time": "2022-04-12T15:39:59.109713",
     "exception": false,
     "start_time": "2022-04-12T15:39:59.000282",
     "status": "completed"
    },
    "tags": []
   },
   "outputs": [],
   "source": []
  }
 ],
 "metadata": {
  "kernelspec": {
   "display_name": "R",
   "language": "R",
   "name": "ir"
  },
  "language_info": {
   "codemirror_mode": "r",
   "file_extension": ".r",
   "mimetype": "text/x-r-source",
   "name": "R",
   "pygments_lexer": "r",
   "version": "4.0.5"
  },
  "papermill": {
   "default_parameters": {},
   "duration": 13.447548,
   "end_time": "2022-04-12T15:39:59.332190",
   "environment_variables": {},
   "exception": null,
   "input_path": "__notebook__.ipynb",
   "output_path": "__notebook__.ipynb",
   "parameters": {},
   "start_time": "2022-04-12T15:39:45.884642",
   "version": "2.3.3"
  }
 },
 "nbformat": 4,
 "nbformat_minor": 5
}
